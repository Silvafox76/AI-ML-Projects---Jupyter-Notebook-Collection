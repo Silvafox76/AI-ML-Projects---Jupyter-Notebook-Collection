{
 "cells": [
  {
   "cell_type": "markdown",
   "metadata": {},
   "source": [
    "You can download the `requirements.txt` for this course from the workspace of this lab. `File --> Open...`"
   ]
  },
  {
   "cell_type": "markdown",
   "metadata": {},
   "source": [
    "# L2: Create Agents to Research and Write an Article\n",
    "\n",
    "In this lesson, you will be introduced to the foundational concepts of multi-agent systems and get an overview of the crewAI framework."
   ]
  },
  {
   "cell_type": "markdown",
   "metadata": {},
   "source": [
    "The libraries are already installed in the classroom. If you're running this notebook on your own machine, you can install the following:\n",
    "```Python\n",
    "!pip install crewai==0.28.8 crewai_tools==0.1.6 langchain_community==0.0.29\n",
    "```"
   ]
  },
  {
   "cell_type": "code",
   "execution_count": 1,
   "metadata": {
    "height": 64
   },
   "outputs": [],
   "source": [
    "# Warning control\n",
    "import warnings\n",
    "warnings.filterwarnings('ignore')"
   ]
  },
  {
   "cell_type": "markdown",
   "metadata": {},
   "source": [
    "- Import from the crewAI libray."
   ]
  },
  {
   "cell_type": "code",
   "execution_count": 2,
   "metadata": {
    "height": 30
   },
   "outputs": [],
   "source": [
    "from crewai import Agent, Task, Crew"
   ]
  },
  {
   "cell_type": "markdown",
   "metadata": {},
   "source": [
    "- As a LLM for your agents, you'll be using OpenAI's `gpt-3.5-turbo`.\n",
    "\n",
    "**Optional Note:** crewAI also allow other popular models to be used as a LLM for your Agents. You can see some of the examples at the [bottom of the notebook](#1)."
   ]
  },
  {
   "cell_type": "code",
   "execution_count": 3,
   "metadata": {
    "height": 98
   },
   "outputs": [],
   "source": [
    "import os\n",
    "from utils import get_openai_api_key\n",
    "\n",
    "openai_api_key = get_openai_api_key()\n",
    "os.environ[\"OPENAI_MODEL_NAME\"] = 'gpt-3.5-turbo'"
   ]
  },
  {
   "cell_type": "markdown",
   "metadata": {},
   "source": [
    "## Creating Agents\n",
    "\n",
    "- Define your Agents, and provide them a `role`, `goal` and `backstory`.\n",
    "- It has been seen that LLMs perform better when they are role playing."
   ]
  },
  {
   "cell_type": "markdown",
   "metadata": {},
   "source": [
    "### Agent: Planner\n",
    "\n",
    "**Note**: The benefit of using _multiple strings_ :\n",
    "```Python\n",
    "varname = \"line 1 of text\"\n",
    "          \"line 2 of text\"\n",
    "```\n",
    "\n",
    "versus the _triple quote docstring_:\n",
    "```Python\n",
    "varname = \"\"\"line 1 of text\n",
    "             line 2 of text\n",
    "          \"\"\"\n",
    "```\n",
    "is that it can avoid adding those whitespaces and newline characters, making it better formatted to be passed to the LLM."
   ]
  },
  {
   "cell_type": "code",
   "execution_count": 4,
   "metadata": {
    "height": 234
   },
   "outputs": [],
   "source": [
    "planner = Agent(\n",
    "    role=\"Content Planner\",\n",
    "    goal=\"Plan engaging and factually accurate content on {topic}\",\n",
    "    backstory=\"You're working on planning a blog article \"\n",
    "              \"about the topic: {topic}.\"\n",
    "              \"You collect information that helps the \"\n",
    "              \"audience learn something \"\n",
    "              \"and make informed decisions. \"\n",
    "              \"Your work is the basis for \"\n",
    "              \"the Content Writer to write an article on this topic.\",\n",
    "    allow_delegation=False,\n",
    "\tverbose=True\n",
    ")"
   ]
  },
  {
   "cell_type": "markdown",
   "metadata": {},
   "source": [
    "### Agent: Writer"
   ]
  },
  {
   "cell_type": "code",
   "execution_count": 5,
   "metadata": {
    "height": 370
   },
   "outputs": [],
   "source": [
    "writer = Agent(\n",
    "    role=\"Content Writer\",\n",
    "    goal=\"Write insightful and factually accurate \"\n",
    "         \"opinion piece about the topic: {topic}\",\n",
    "    backstory=\"You're working on a writing \"\n",
    "              \"a new opinion piece about the topic: {topic}. \"\n",
    "              \"You base your writing on the work of \"\n",
    "              \"the Content Planner, who provides an outline \"\n",
    "              \"and relevant context about the topic. \"\n",
    "              \"You follow the main objectives and \"\n",
    "              \"direction of the outline, \"\n",
    "              \"as provide by the Content Planner. \"\n",
    "              \"You also provide objective and impartial insights \"\n",
    "              \"and back them up with information \"\n",
    "              \"provide by the Content Planner. \"\n",
    "              \"You acknowledge in your opinion piece \"\n",
    "              \"when your statements are opinions \"\n",
    "              \"as opposed to objective statements.\",\n",
    "    allow_delegation=False,\n",
    "    verbose=True\n",
    ")"
   ]
  },
  {
   "cell_type": "markdown",
   "metadata": {},
   "source": [
    "### Agent: Editor"
   ]
  },
  {
   "cell_type": "code",
   "execution_count": 6,
   "metadata": {
    "height": 268
   },
   "outputs": [],
   "source": [
    "editor = Agent(\n",
    "    role=\"Editor\",\n",
    "    goal=\"Edit a given blog post to align with \"\n",
    "         \"the writing style of the organization. \",\n",
    "    backstory=\"You are an editor who receives a blog post \"\n",
    "              \"from the Content Writer. \"\n",
    "              \"Your goal is to review the blog post \"\n",
    "              \"to ensure that it follows journalistic best practices,\"\n",
    "              \"provides balanced viewpoints \"\n",
    "              \"when providing opinions or assertions, \"\n",
    "              \"and also avoids major controversial topics \"\n",
    "              \"or opinions when possible.\",\n",
    "    allow_delegation=False,\n",
    "    verbose=True\n",
    ")"
   ]
  },
  {
   "cell_type": "markdown",
   "metadata": {},
   "source": [
    "## Creating Tasks\n",
    "\n",
    "- Define your Tasks, and provide them a `description`, `expected_output` and `agent`."
   ]
  },
  {
   "cell_type": "markdown",
   "metadata": {},
   "source": [
    "### Task: Plan"
   ]
  },
  {
   "cell_type": "code",
   "execution_count": 7,
   "metadata": {
    "height": 268
   },
   "outputs": [],
   "source": [
    "plan = Task(\n",
    "    description=(\n",
    "        \"1. Prioritize the latest trends, key players, \"\n",
    "            \"and noteworthy news on {topic}.\\n\"\n",
    "        \"2. Identify the target audience, considering \"\n",
    "            \"their interests and pain points.\\n\"\n",
    "        \"3. Develop a detailed content outline including \"\n",
    "            \"an introduction, key points, and a call to action.\\n\"\n",
    "        \"4. Include SEO keywords and relevant data or sources.\"\n",
    "    ),\n",
    "    expected_output=\"A comprehensive content plan document \"\n",
    "        \"with an outline, audience analysis, \"\n",
    "        \"SEO keywords, and resources.\",\n",
    "    agent=planner,\n",
    ")"
   ]
  },
  {
   "cell_type": "markdown",
   "metadata": {},
   "source": [
    "### Task: Write"
   ]
  },
  {
   "cell_type": "code",
   "execution_count": 8,
   "metadata": {
    "height": 319
   },
   "outputs": [],
   "source": [
    "write = Task(\n",
    "    description=(\n",
    "        \"1. Use the content plan to craft a compelling \"\n",
    "            \"blog post on {topic}.\\n\"\n",
    "        \"2. Incorporate SEO keywords naturally.\\n\"\n",
    "\t\t\"3. Sections/Subtitles are properly named \"\n",
    "            \"in an engaging manner.\\n\"\n",
    "        \"4. Ensure the post is structured with an \"\n",
    "            \"engaging introduction, insightful body, \"\n",
    "            \"and a summarizing conclusion.\\n\"\n",
    "        \"5. Proofread for grammatical errors and \"\n",
    "            \"alignment with the brand's voice.\\n\"\n",
    "    ),\n",
    "    expected_output=\"A well-written blog post \"\n",
    "        \"in markdown format, ready for publication, \"\n",
    "        \"each section should have 2 or 3 paragraphs.\",\n",
    "    agent=writer,\n",
    ")"
   ]
  },
  {
   "cell_type": "markdown",
   "metadata": {},
   "source": [
    "### Task: Edit"
   ]
  },
  {
   "cell_type": "code",
   "execution_count": 9,
   "metadata": {
    "height": 166
   },
   "outputs": [],
   "source": [
    "edit = Task(\n",
    "    description=(\"Proofread the given blog post for \"\n",
    "                 \"grammatical errors and \"\n",
    "                 \"alignment with the brand's voice.\"),\n",
    "    expected_output=\"A well-written blog post in markdown format, \"\n",
    "                    \"ready for publication, \"\n",
    "                    \"each section should have 2 or 3 paragraphs.\",\n",
    "    agent=editor\n",
    ")"
   ]
  },
  {
   "cell_type": "markdown",
   "metadata": {},
   "source": [
    "## Creating the Crew\n",
    "\n",
    "- Create your crew of Agents\n",
    "- Pass the tasks to be performed by those agents.\n",
    "    - **Note**: *For this simple example*, the tasks will be performed sequentially (i.e they are dependent on each other), so the _order_ of the task in the list _matters_.\n",
    "- `verbose=2` allows you to see all the logs of the execution. "
   ]
  },
  {
   "cell_type": "code",
   "execution_count": 10,
   "metadata": {
    "height": 98
   },
   "outputs": [],
   "source": [
    "crew = Crew(\n",
    "    agents=[planner, writer, editor],\n",
    "    tasks=[plan, write, edit],\n",
    "    verbose=2\n",
    ")"
   ]
  },
  {
   "cell_type": "markdown",
   "metadata": {},
   "source": [
    "## Running the Crew"
   ]
  },
  {
   "cell_type": "markdown",
   "metadata": {},
   "source": [
    "**Note**: LLMs can provide different outputs for they same input, so what you get might be different than what you see in the video."
   ]
  },
  {
   "cell_type": "code",
   "execution_count": 11,
   "metadata": {
    "height": 30
   },
   "outputs": [
    {
     "name": "stdout",
     "output_type": "stream",
     "text": [
      "\u001b[1m\u001b[95m [DEBUG]: == Working Agent: Content Planner\u001b[00m\n",
      "\u001b[1m\u001b[95m [INFO]: == Starting Task: 1. Prioritize the latest trends, key players, and noteworthy news on Artificial Intelligence.\n",
      "2. Identify the target audience, considering their interests and pain points.\n",
      "3. Develop a detailed content outline including an introduction, key points, and a call to action.\n",
      "4. Include SEO keywords and relevant data or sources.\u001b[00m\n",
      "\n",
      "\n",
      "\u001b[1m> Entering new CrewAgentExecutor chain...\u001b[0m\n",
      "\u001b[32;1m\u001b[1;3mI now can give a great answer\n",
      "\n",
      "Final Answer: \n",
      "\n",
      "Content Plan: Artificial Intelligence Blog Article\n",
      "\n",
      "Introduction:\n",
      "- Brief overview of Artificial Intelligence (AI) and its impact on various industries\n",
      "- Importance of staying updated on the latest trends and news in AI\n",
      "\n",
      "Key Points:\n",
      "1. Latest Trends in AI:\n",
      "- Advancements in machine learning algorithms\n",
      "- Increased adoption of AI in healthcare, finance, and retail sectors\n",
      "- Growth of AI-powered virtual assistants and chatbots\n",
      "\n",
      "2. Key Players in AI:\n",
      "- Google's DeepMind\n",
      "- IBM Watson\n",
      "- Amazon Web Services\n",
      "- Microsoft Azure\n",
      "\n",
      "3. Noteworthy News in AI:\n",
      "- Breakthroughs in natural language processing\n",
      "- Ethical considerations in AI development\n",
      "- AI applications in climate change mitigation\n",
      "\n",
      "Audience Analysis:\n",
      "Target Audience: Business professionals, tech enthusiasts, and students interested in AI\n",
      "Interests: Innovation, technology advancements, practical applications of AI\n",
      "Pain Points: Keeping up with rapid changes in AI, understanding complex AI concepts, finding reliable sources for AI news\n",
      "\n",
      "SEO Keywords:\n",
      "- Artificial Intelligence trends 2021\n",
      "- Top AI companies\n",
      "- Latest news in AI\n",
      "- AI applications in business\n",
      "- Ethical AI development\n",
      "\n",
      "Resources:\n",
      "- Forbes: \"The Top Artificial Intelligence Companies to Watch in 2021\"\n",
      "- MIT Technology Review: \"Latest Advances in Artificial Intelligence\"\n",
      "- Harvard Business Review: \"Ethical Considerations in AI Development\"\n",
      "\n",
      "Call to Action:\n",
      "Encourage readers to subscribe to a newsletter for regular updates on AI trends and news, and to engage in discussions on social media platforms.\n",
      "\n",
      "Overall, this content plan aims to provide a comprehensive overview of the latest trends, key players, and noteworthy news in Artificial Intelligence, tailored to the interests and pain points of the target audience. By incorporating relevant SEO keywords and reputable resources, the blog article will be informative and engaging for readers seeking to learn more about AI.\u001b[0m\n",
      "\n",
      "\u001b[1m> Finished chain.\u001b[0m\n",
      "\u001b[1m\u001b[92m [DEBUG]: == [Content Planner] Task output: Content Plan: Artificial Intelligence Blog Article\n",
      "\n",
      "Introduction:\n",
      "- Brief overview of Artificial Intelligence (AI) and its impact on various industries\n",
      "- Importance of staying updated on the latest trends and news in AI\n",
      "\n",
      "Key Points:\n",
      "1. Latest Trends in AI:\n",
      "- Advancements in machine learning algorithms\n",
      "- Increased adoption of AI in healthcare, finance, and retail sectors\n",
      "- Growth of AI-powered virtual assistants and chatbots\n",
      "\n",
      "2. Key Players in AI:\n",
      "- Google's DeepMind\n",
      "- IBM Watson\n",
      "- Amazon Web Services\n",
      "- Microsoft Azure\n",
      "\n",
      "3. Noteworthy News in AI:\n",
      "- Breakthroughs in natural language processing\n",
      "- Ethical considerations in AI development\n",
      "- AI applications in climate change mitigation\n",
      "\n",
      "Audience Analysis:\n",
      "Target Audience: Business professionals, tech enthusiasts, and students interested in AI\n",
      "Interests: Innovation, technology advancements, practical applications of AI\n",
      "Pain Points: Keeping up with rapid changes in AI, understanding complex AI concepts, finding reliable sources for AI news\n",
      "\n",
      "SEO Keywords:\n",
      "- Artificial Intelligence trends 2021\n",
      "- Top AI companies\n",
      "- Latest news in AI\n",
      "- AI applications in business\n",
      "- Ethical AI development\n",
      "\n",
      "Resources:\n",
      "- Forbes: \"The Top Artificial Intelligence Companies to Watch in 2021\"\n",
      "- MIT Technology Review: \"Latest Advances in Artificial Intelligence\"\n",
      "- Harvard Business Review: \"Ethical Considerations in AI Development\"\n",
      "\n",
      "Call to Action:\n",
      "Encourage readers to subscribe to a newsletter for regular updates on AI trends and news, and to engage in discussions on social media platforms.\n",
      "\n",
      "Overall, this content plan aims to provide a comprehensive overview of the latest trends, key players, and noteworthy news in Artificial Intelligence, tailored to the interests and pain points of the target audience. By incorporating relevant SEO keywords and reputable resources, the blog article will be informative and engaging for readers seeking to learn more about AI.\n",
      "\n",
      "\u001b[00m\n",
      "\u001b[1m\u001b[95m [DEBUG]: == Working Agent: Content Writer\u001b[00m\n",
      "\u001b[1m\u001b[95m [INFO]: == Starting Task: 1. Use the content plan to craft a compelling blog post on Artificial Intelligence.\n",
      "2. Incorporate SEO keywords naturally.\n",
      "3. Sections/Subtitles are properly named in an engaging manner.\n",
      "4. Ensure the post is structured with an engaging introduction, insightful body, and a summarizing conclusion.\n",
      "5. Proofread for grammatical errors and alignment with the brand's voice.\n",
      "\u001b[00m\n",
      "\n",
      "\n",
      "\u001b[1m> Entering new CrewAgentExecutor chain...\u001b[0m\n",
      "\u001b[32;1m\u001b[1;3mI am ready to craft a well-written blog post on Artificial Intelligence that incorporates the key points and SEO keywords provided in the content plan. I will ensure that the content is engaging and informative for the target audience of business professionals, tech enthusiasts, and students interested in AI. By following the outline and utilizing reputable resources, I aim to create a comprehensive article that addresses the latest trends, key players, and noteworthy news in the field of Artificial Intelligence.\n",
      "\n",
      "Final Answer:\n",
      "\n",
      "# Unveiling the Future: A Look into Artificial Intelligence Trends and Innovations\n",
      "\n",
      "In a world driven by technological advancements, Artificial Intelligence (AI) stands at the forefront of innovation, revolutionizing various industries with its capabilities. From healthcare to finance and retail sectors, AI has become an integral part of modern-day operations, enhancing efficiency and productivity. As we delve deeper into the realm of AI, it becomes increasingly crucial to stay updated on the latest trends and news shaping this rapidly evolving landscape.\n",
      "\n",
      "## Latest Trends in AI: Embracing the Power of Machine Learning\n",
      "\n",
      "One of the key trends in AI revolves around the advancements in machine learning algorithms, enabling machines to learn from data and improve their performance over time. This has led to increased adoption of AI in diverse sectors, with businesses leveraging AI-powered solutions to gain a competitive edge. Moreover, the rise of AI-powered virtual assistants and chatbots has transformed customer interactions, providing personalized experiences and streamlining communication processes. As AI continues to evolve, we can expect to witness further innovations that redefine the way we work and interact with technology.\n",
      "\n",
      "## Key Players in AI: Pioneering the Future of Artificial Intelligence\n",
      "\n",
      "In the realm of AI, several key players have emerged as leaders in driving innovation and pushing the boundaries of what is possible. Companies such as Google's DeepMind, IBM Watson, Amazon Web Services, and Microsoft Azure are at the forefront of AI research and development, pushing the limits of what AI can achieve. Their groundbreaking work in AI applications has not only transformed industries but also paved the way for future advancements in the field. By collaborating with these industry giants, businesses can harness the power of AI to unlock new opportunities and drive growth in the digital age.\n",
      "\n",
      "## Noteworthy News in AI: Exploring Ethical Considerations and Climate Change Mitigation\n",
      "\n",
      "In addition to technological advancements, AI has also sparked discussions around ethical considerations in its development and deployment. Breakthroughs in natural language processing have raised questions about data privacy and algorithmic bias, prompting the need for ethical guidelines to govern AI usage. Furthermore, AI applications in climate change mitigation have showcased the potential of AI to address global challenges and drive sustainable solutions. By staying informed on these noteworthy developments, we can actively participate in shaping the future of AI and ensuring its responsible use for the greater good.\n",
      "\n",
      "In conclusion, Artificial Intelligence continues to shape the future of technology and innovation, with its vast potential to revolutionize industries and drive growth. By staying abreast of the latest trends, key players, and noteworthy news in AI, we can harness the power of AI to create a more sustainable and technologically advanced world. As we navigate the complexities of AI development, it is essential to prioritize ethical considerations and leverage AI for positive impact. Let us embrace the future of AI with curiosity and responsibility, paving the way for a brighter tomorrow.\u001b[0m\n",
      "\n",
      "\u001b[1m> Finished chain.\u001b[0m\n",
      "\u001b[1m\u001b[92m [DEBUG]: == [Content Writer] Task output: # Unveiling the Future: A Look into Artificial Intelligence Trends and Innovations\n",
      "\n",
      "In a world driven by technological advancements, Artificial Intelligence (AI) stands at the forefront of innovation, revolutionizing various industries with its capabilities. From healthcare to finance and retail sectors, AI has become an integral part of modern-day operations, enhancing efficiency and productivity. As we delve deeper into the realm of AI, it becomes increasingly crucial to stay updated on the latest trends and news shaping this rapidly evolving landscape.\n",
      "\n",
      "## Latest Trends in AI: Embracing the Power of Machine Learning\n",
      "\n",
      "One of the key trends in AI revolves around the advancements in machine learning algorithms, enabling machines to learn from data and improve their performance over time. This has led to increased adoption of AI in diverse sectors, with businesses leveraging AI-powered solutions to gain a competitive edge. Moreover, the rise of AI-powered virtual assistants and chatbots has transformed customer interactions, providing personalized experiences and streamlining communication processes. As AI continues to evolve, we can expect to witness further innovations that redefine the way we work and interact with technology.\n",
      "\n",
      "## Key Players in AI: Pioneering the Future of Artificial Intelligence\n",
      "\n",
      "In the realm of AI, several key players have emerged as leaders in driving innovation and pushing the boundaries of what is possible. Companies such as Google's DeepMind, IBM Watson, Amazon Web Services, and Microsoft Azure are at the forefront of AI research and development, pushing the limits of what AI can achieve. Their groundbreaking work in AI applications has not only transformed industries but also paved the way for future advancements in the field. By collaborating with these industry giants, businesses can harness the power of AI to unlock new opportunities and drive growth in the digital age.\n",
      "\n",
      "## Noteworthy News in AI: Exploring Ethical Considerations and Climate Change Mitigation\n",
      "\n",
      "In addition to technological advancements, AI has also sparked discussions around ethical considerations in its development and deployment. Breakthroughs in natural language processing have raised questions about data privacy and algorithmic bias, prompting the need for ethical guidelines to govern AI usage. Furthermore, AI applications in climate change mitigation have showcased the potential of AI to address global challenges and drive sustainable solutions. By staying informed on these noteworthy developments, we can actively participate in shaping the future of AI and ensuring its responsible use for the greater good.\n",
      "\n",
      "In conclusion, Artificial Intelligence continues to shape the future of technology and innovation, with its vast potential to revolutionize industries and drive growth. By staying abreast of the latest trends, key players, and noteworthy news in AI, we can harness the power of AI to create a more sustainable and technologically advanced world. As we navigate the complexities of AI development, it is essential to prioritize ethical considerations and leverage AI for positive impact. Let us embrace the future of AI with curiosity and responsibility, paving the way for a brighter tomorrow.\n",
      "\n",
      "\u001b[00m\n",
      "\u001b[1m\u001b[95m [DEBUG]: == Working Agent: Editor\u001b[00m\n",
      "\u001b[1m\u001b[95m [INFO]: == Starting Task: Proofread the given blog post for grammatical errors and alignment with the brand's voice.\u001b[00m\n",
      "\n",
      "\n",
      "\u001b[1m> Entering new CrewAgentExecutor chain...\u001b[0m\n"
     ]
    },
    {
     "name": "stdout",
     "output_type": "stream",
     "text": [
      "\u001b[32;1m\u001b[1;3mI now can give a great answer\n",
      "\n",
      "Final Answer: \n",
      "\n",
      "# Unveiling the Future: A Look into Artificial Intelligence Trends and Innovations\n",
      "\n",
      "In a world driven by technological advancements, Artificial Intelligence (AI) stands at the forefront of innovation, revolutionizing various industries with its capabilities. From healthcare to finance and retail sectors, AI has become an integral part of modern-day operations, enhancing efficiency and productivity. As we delve deeper into the realm of AI, it becomes increasingly crucial to stay updated on the latest trends and news shaping this rapidly evolving landscape.\n",
      "\n",
      "## Latest Trends in AI: Embracing the Power of Machine Learning\n",
      "\n",
      "One of the key trends in AI revolves around the advancements in machine learning algorithms, enabling machines to learn from data and improve their performance over time. This has led to increased adoption of AI in diverse sectors, with businesses leveraging AI-powered solutions to gain a competitive edge. Moreover, the rise of AI-powered virtual assistants and chatbots has transformed customer interactions, providing personalized experiences and streamlining communication processes. As AI continues to evolve, we can expect to witness further innovations that redefine the way we work and interact with technology.\n",
      "\n",
      "## Key Players in AI: Pioneering the Future of Artificial Intelligence\n",
      "\n",
      "In the realm of AI, several key players have emerged as leaders in driving innovation and pushing the boundaries of what is possible. Companies such as Google's DeepMind, IBM Watson, Amazon Web Services, and Microsoft Azure are at the forefront of AI research and development, pushing the limits of what AI can achieve. Their groundbreaking work in AI applications has not only transformed industries but also paved the way for future advancements in the field. By collaborating with these industry giants, businesses can harness the power of AI to unlock new opportunities and drive growth in the digital age.\n",
      "\n",
      "## Noteworthy News in AI: Exploring Ethical Considerations and Climate Change Mitigation\n",
      "\n",
      "In addition to technological advancements, AI has also sparked discussions around ethical considerations in its development and deployment. Breakthroughs in natural language processing have raised questions about data privacy and algorithmic bias, prompting the need for ethical guidelines to govern AI usage. Furthermore, AI applications in climate change mitigation have showcased the potential of AI to address global challenges and drive sustainable solutions. By staying informed on these noteworthy developments, we can actively participate in shaping the future of AI and ensuring its responsible use for the greater good.\n",
      "\n",
      "In conclusion, Artificial Intelligence continues to shape the future of technology and innovation, with its vast potential to revolutionize industries and drive growth. By staying abreast of the latest trends, key players, and noteworthy news in AI, we can harness the power of AI to create a more sustainable and technologically advanced world. As we navigate the complexities of AI development, it is essential to prioritize ethical considerations and leverage AI for positive impact. Let us embrace the future of AI with curiosity and responsibility, paving the way for a brighter tomorrow.\u001b[0m\n",
      "\n",
      "\u001b[1m> Finished chain.\u001b[0m\n",
      "\u001b[1m\u001b[92m [DEBUG]: == [Editor] Task output: # Unveiling the Future: A Look into Artificial Intelligence Trends and Innovations\n",
      "\n",
      "In a world driven by technological advancements, Artificial Intelligence (AI) stands at the forefront of innovation, revolutionizing various industries with its capabilities. From healthcare to finance and retail sectors, AI has become an integral part of modern-day operations, enhancing efficiency and productivity. As we delve deeper into the realm of AI, it becomes increasingly crucial to stay updated on the latest trends and news shaping this rapidly evolving landscape.\n",
      "\n",
      "## Latest Trends in AI: Embracing the Power of Machine Learning\n",
      "\n",
      "One of the key trends in AI revolves around the advancements in machine learning algorithms, enabling machines to learn from data and improve their performance over time. This has led to increased adoption of AI in diverse sectors, with businesses leveraging AI-powered solutions to gain a competitive edge. Moreover, the rise of AI-powered virtual assistants and chatbots has transformed customer interactions, providing personalized experiences and streamlining communication processes. As AI continues to evolve, we can expect to witness further innovations that redefine the way we work and interact with technology.\n",
      "\n",
      "## Key Players in AI: Pioneering the Future of Artificial Intelligence\n",
      "\n",
      "In the realm of AI, several key players have emerged as leaders in driving innovation and pushing the boundaries of what is possible. Companies such as Google's DeepMind, IBM Watson, Amazon Web Services, and Microsoft Azure are at the forefront of AI research and development, pushing the limits of what AI can achieve. Their groundbreaking work in AI applications has not only transformed industries but also paved the way for future advancements in the field. By collaborating with these industry giants, businesses can harness the power of AI to unlock new opportunities and drive growth in the digital age.\n",
      "\n",
      "## Noteworthy News in AI: Exploring Ethical Considerations and Climate Change Mitigation\n",
      "\n",
      "In addition to technological advancements, AI has also sparked discussions around ethical considerations in its development and deployment. Breakthroughs in natural language processing have raised questions about data privacy and algorithmic bias, prompting the need for ethical guidelines to govern AI usage. Furthermore, AI applications in climate change mitigation have showcased the potential of AI to address global challenges and drive sustainable solutions. By staying informed on these noteworthy developments, we can actively participate in shaping the future of AI and ensuring its responsible use for the greater good.\n",
      "\n",
      "In conclusion, Artificial Intelligence continues to shape the future of technology and innovation, with its vast potential to revolutionize industries and drive growth. By staying abreast of the latest trends, key players, and noteworthy news in AI, we can harness the power of AI to create a more sustainable and technologically advanced world. As we navigate the complexities of AI development, it is essential to prioritize ethical considerations and leverage AI for positive impact. Let us embrace the future of AI with curiosity and responsibility, paving the way for a brighter tomorrow.\n",
      "\n",
      "\u001b[00m\n"
     ]
    }
   ],
   "source": [
    "result = crew.kickoff(inputs={\"topic\": \"Artificial Intelligence\"})"
   ]
  },
  {
   "cell_type": "markdown",
   "metadata": {},
   "source": [
    "- Display the results of your execution as markdown in the notebook."
   ]
  },
  {
   "cell_type": "code",
   "execution_count": 12,
   "metadata": {
    "height": 47
   },
   "outputs": [
    {
     "data": {
      "text/markdown": [
       "# Unveiling the Future: A Look into Artificial Intelligence Trends and Innovations\n",
       "\n",
       "In a world driven by technological advancements, Artificial Intelligence (AI) stands at the forefront of innovation, revolutionizing various industries with its capabilities. From healthcare to finance and retail sectors, AI has become an integral part of modern-day operations, enhancing efficiency and productivity. As we delve deeper into the realm of AI, it becomes increasingly crucial to stay updated on the latest trends and news shaping this rapidly evolving landscape.\n",
       "\n",
       "## Latest Trends in AI: Embracing the Power of Machine Learning\n",
       "\n",
       "One of the key trends in AI revolves around the advancements in machine learning algorithms, enabling machines to learn from data and improve their performance over time. This has led to increased adoption of AI in diverse sectors, with businesses leveraging AI-powered solutions to gain a competitive edge. Moreover, the rise of AI-powered virtual assistants and chatbots has transformed customer interactions, providing personalized experiences and streamlining communication processes. As AI continues to evolve, we can expect to witness further innovations that redefine the way we work and interact with technology.\n",
       "\n",
       "## Key Players in AI: Pioneering the Future of Artificial Intelligence\n",
       "\n",
       "In the realm of AI, several key players have emerged as leaders in driving innovation and pushing the boundaries of what is possible. Companies such as Google's DeepMind, IBM Watson, Amazon Web Services, and Microsoft Azure are at the forefront of AI research and development, pushing the limits of what AI can achieve. Their groundbreaking work in AI applications has not only transformed industries but also paved the way for future advancements in the field. By collaborating with these industry giants, businesses can harness the power of AI to unlock new opportunities and drive growth in the digital age.\n",
       "\n",
       "## Noteworthy News in AI: Exploring Ethical Considerations and Climate Change Mitigation\n",
       "\n",
       "In addition to technological advancements, AI has also sparked discussions around ethical considerations in its development and deployment. Breakthroughs in natural language processing have raised questions about data privacy and algorithmic bias, prompting the need for ethical guidelines to govern AI usage. Furthermore, AI applications in climate change mitigation have showcased the potential of AI to address global challenges and drive sustainable solutions. By staying informed on these noteworthy developments, we can actively participate in shaping the future of AI and ensuring its responsible use for the greater good.\n",
       "\n",
       "In conclusion, Artificial Intelligence continues to shape the future of technology and innovation, with its vast potential to revolutionize industries and drive growth. By staying abreast of the latest trends, key players, and noteworthy news in AI, we can harness the power of AI to create a more sustainable and technologically advanced world. As we navigate the complexities of AI development, it is essential to prioritize ethical considerations and leverage AI for positive impact. Let us embrace the future of AI with curiosity and responsibility, paving the way for a brighter tomorrow."
      ],
      "text/plain": [
       "<IPython.core.display.Markdown object>"
      ]
     },
     "execution_count": 12,
     "metadata": {},
     "output_type": "execute_result"
    }
   ],
   "source": [
    "from IPython.display import Markdown\n",
    "Markdown(result)"
   ]
  },
  {
   "cell_type": "markdown",
   "metadata": {},
   "source": [
    "## Try it Yourself\n",
    "\n",
    "- Pass in a topic of your choice and see what the agents come up with!"
   ]
  },
  {
   "cell_type": "code",
   "execution_count": null,
   "metadata": {
    "height": 47
   },
   "outputs": [
    {
     "name": "stdout",
     "output_type": "stream",
     "text": [
      "\u001b[1m\u001b[95m [DEBUG]: == Working Agent: Content Planner\u001b[00m\n",
      "\u001b[1m\u001b[95m [INFO]: == Starting Task: 1. Prioritize the latest trends, key players, and noteworthy news on YOUR TOPIC HERE.\n",
      "2. Identify the target audience, considering their interests and pain points.\n",
      "3. Develop a detailed content outline including an introduction, key points, and a call to action.\n",
      "4. Include SEO keywords and relevant data or sources.\u001b[00m\n",
      "\n",
      "\n",
      "\u001b[1m> Entering new CrewAgentExecutor chain...\u001b[0m\n",
      "\u001b[32;1m\u001b[1;3mI now can give a great answer\n",
      "\n",
      "Final Answer:\n",
      "Content Plan: Blog Article on Social Media Marketing Trends in 2021\n",
      "\n",
      "Introduction:\n",
      "- Brief overview of the importance of staying updated on social media marketing trends\n",
      "- Mention of the rapid evolution of social media platforms and strategies\n",
      "\n",
      "Key Points:\n",
      "1. Latest Trends:\n",
      "- Rise of short-form video content on platforms like TikTok and Instagram Reels\n",
      "- Increased focus on influencer marketing and user-generated content\n",
      "- Growth of social commerce and shoppable posts on platforms like Facebook and Instagram\n",
      "\n",
      "2. Key Players:\n",
      "- Overview of major social media platforms including Facebook, Instagram, Twitter, LinkedIn, TikTok, and Pinterest\n",
      "- Mention of key industry influencers and thought leaders shaping the landscape\n",
      "\n",
      "3. Noteworthy News:\n",
      "- Recent updates from social media platforms such as algorithm changes, new features, and policy updates\n",
      "- Highlight of successful social media campaigns or case studies that showcase innovative strategies\n",
      "\n",
      "Target Audience:\n",
      "- Small to medium-sized businesses looking to enhance their social media presence\n",
      "- Marketing professionals seeking to stay ahead of the curve in social media marketing\n",
      "- Entrepreneurs and startups aiming to leverage social media for brand growth\n",
      "\n",
      "Call to Action:\n",
      "- Encourage readers to implement new trends and strategies discussed in the article\n",
      "- Provide links to resources for further reading or tools for social media management\n",
      "\n",
      "SEO Keywords:\n",
      "- Social media marketing trends 2021\n",
      "- Social media strategies for businesses\n",
      "- Influencer marketing on social media\n",
      "- Social commerce and shoppable posts\n",
      "\n",
      "Resources:\n",
      "1. Social Media Examiner - https://www.socialmediaexaminer.com/\n",
      "2. HubSpot's Social Media Marketing Blog - https://blog.hubspot.com/marketing/topic/social-media-marketing\n",
      "3. Buffer's State of Social Report - https://buffer.com/state-of-social-2021\n",
      "\n",
      "Overall, this blog article aims to educate and empower readers with the latest trends and insights in social media marketing for 2021, catering to a diverse audience interested in maximizing their online presence.\u001b[0m\n",
      "\n",
      "\u001b[1m> Finished chain.\u001b[0m\n",
      "\u001b[1m\u001b[92m [DEBUG]: == [Content Planner] Task output: Content Plan: Blog Article on Social Media Marketing Trends in 2021\n",
      "\n",
      "Introduction:\n",
      "- Brief overview of the importance of staying updated on social media marketing trends\n",
      "- Mention of the rapid evolution of social media platforms and strategies\n",
      "\n",
      "Key Points:\n",
      "1. Latest Trends:\n",
      "- Rise of short-form video content on platforms like TikTok and Instagram Reels\n",
      "- Increased focus on influencer marketing and user-generated content\n",
      "- Growth of social commerce and shoppable posts on platforms like Facebook and Instagram\n",
      "\n",
      "2. Key Players:\n",
      "- Overview of major social media platforms including Facebook, Instagram, Twitter, LinkedIn, TikTok, and Pinterest\n",
      "- Mention of key industry influencers and thought leaders shaping the landscape\n",
      "\n",
      "3. Noteworthy News:\n",
      "- Recent updates from social media platforms such as algorithm changes, new features, and policy updates\n",
      "- Highlight of successful social media campaigns or case studies that showcase innovative strategies\n",
      "\n",
      "Target Audience:\n",
      "- Small to medium-sized businesses looking to enhance their social media presence\n",
      "- Marketing professionals seeking to stay ahead of the curve in social media marketing\n",
      "- Entrepreneurs and startups aiming to leverage social media for brand growth\n",
      "\n",
      "Call to Action:\n",
      "- Encourage readers to implement new trends and strategies discussed in the article\n",
      "- Provide links to resources for further reading or tools for social media management\n",
      "\n",
      "SEO Keywords:\n",
      "- Social media marketing trends 2021\n",
      "- Social media strategies for businesses\n",
      "- Influencer marketing on social media\n",
      "- Social commerce and shoppable posts\n",
      "\n",
      "Resources:\n",
      "1. Social Media Examiner - https://www.socialmediaexaminer.com/\n",
      "2. HubSpot's Social Media Marketing Blog - https://blog.hubspot.com/marketing/topic/social-media-marketing\n",
      "3. Buffer's State of Social Report - https://buffer.com/state-of-social-2021\n",
      "\n",
      "Overall, this blog article aims to educate and empower readers with the latest trends and insights in social media marketing for 2021, catering to a diverse audience interested in maximizing their online presence.\n",
      "\n",
      "\u001b[00m\n",
      "\u001b[1m\u001b[95m [DEBUG]: == Working Agent: Content Writer\u001b[00m\n",
      "\u001b[1m\u001b[95m [INFO]: == Starting Task: 1. Use the content plan to craft a compelling blog post on YOUR TOPIC HERE.\n",
      "2. Incorporate SEO keywords naturally.\n",
      "3. Sections/Subtitles are properly named in an engaging manner.\n",
      "4. Ensure the post is structured with an engaging introduction, insightful body, and a summarizing conclusion.\n",
      "5. Proofread for grammatical errors and alignment with the brand's voice.\n",
      "\u001b[00m\n",
      "\n",
      "\n",
      "\u001b[1m> Entering new CrewAgentExecutor chain...\u001b[0m\n",
      "\u001b[32;1m\u001b[1;3mI now can give a great answer\n",
      "\n",
      "Final Answer: \n",
      "\n",
      "# Social Media Marketing Trends in 2021: Staying Ahead in the Digital Landscape\n",
      "\n",
      "In today's fast-paced digital world, staying updated on social media marketing trends is crucial for businesses and professionals looking to maximize their online presence. The landscape of social media platforms and strategies is constantly evolving, presenting new opportunities and challenges for marketers. By understanding and implementing the latest trends, businesses can effectively engage with their target audience and stay ahead of the competition.\n",
      "\n",
      "## Latest Trends Driving Social Media Marketing in 2021\n",
      "\n",
      "One of the most prominent trends in 2021 is the rise of short-form video content on platforms like TikTok and Instagram Reels. With the popularity of these platforms skyrocketing, businesses are leveraging the power of video to create engaging and shareable content. Additionally, there is an increased focus on influencer marketing and user-generated content, as consumers are more likely to trust recommendations from their peers and influencers. Furthermore, social commerce is on the rise, with platforms like Facebook and Instagram introducing shoppable posts that allow users to purchase products without leaving the app.\n",
      "\n",
      "## Key Players Shaping the Social Media Landscape\n",
      "\n",
      "Major social media platforms such as Facebook, Instagram, Twitter, LinkedIn, TikTok, and Pinterest continue to dominate the digital space in 2021. Each platform offers unique opportunities for businesses to connect with their audience and drive engagement. Moreover, industry influencers and thought leaders play a significant role in shaping social media trends and strategies. By following and learning from these key players, businesses can gain valuable insights and stay informed about the latest industry developments.\n",
      "\n",
      "## Noteworthy News and Successful Strategies in Social Media Marketing\n",
      "\n",
      "Keeping up with recent updates from social media platforms, such as algorithm changes, new features, and policy updates, is essential for marketers. These updates can impact the effectiveness of social media campaigns and strategies, making it crucial to adapt and innovate. Highlighting successful social media campaigns and case studies can also provide inspiration and showcase innovative approaches that yield positive results. By learning from these examples, businesses can refine their own social media strategies and achieve better outcomes.\n",
      "\n",
      "In conclusion, staying informed about social media marketing trends in 2021 is vital for businesses and professionals looking to thrive in the digital landscape. By embracing the latest trends, leveraging key players in the industry, and learning from successful strategies, businesses can enhance their social media presence and connect with their target audience effectively. As the digital landscape continues to evolve, it is essential to stay proactive and adaptable in order to achieve success in social media marketing.\u001b[0m\n",
      "\n",
      "\u001b[1m> Finished chain.\u001b[0m\n",
      "\u001b[1m\u001b[92m [DEBUG]: == [Content Writer] Task output: # Social Media Marketing Trends in 2021: Staying Ahead in the Digital Landscape\n",
      "\n",
      "In today's fast-paced digital world, staying updated on social media marketing trends is crucial for businesses and professionals looking to maximize their online presence. The landscape of social media platforms and strategies is constantly evolving, presenting new opportunities and challenges for marketers. By understanding and implementing the latest trends, businesses can effectively engage with their target audience and stay ahead of the competition.\n",
      "\n",
      "## Latest Trends Driving Social Media Marketing in 2021\n",
      "\n",
      "One of the most prominent trends in 2021 is the rise of short-form video content on platforms like TikTok and Instagram Reels. With the popularity of these platforms skyrocketing, businesses are leveraging the power of video to create engaging and shareable content. Additionally, there is an increased focus on influencer marketing and user-generated content, as consumers are more likely to trust recommendations from their peers and influencers. Furthermore, social commerce is on the rise, with platforms like Facebook and Instagram introducing shoppable posts that allow users to purchase products without leaving the app.\n",
      "\n",
      "## Key Players Shaping the Social Media Landscape\n",
      "\n",
      "Major social media platforms such as Facebook, Instagram, Twitter, LinkedIn, TikTok, and Pinterest continue to dominate the digital space in 2021. Each platform offers unique opportunities for businesses to connect with their audience and drive engagement. Moreover, industry influencers and thought leaders play a significant role in shaping social media trends and strategies. By following and learning from these key players, businesses can gain valuable insights and stay informed about the latest industry developments.\n",
      "\n",
      "## Noteworthy News and Successful Strategies in Social Media Marketing\n",
      "\n",
      "Keeping up with recent updates from social media platforms, such as algorithm changes, new features, and policy updates, is essential for marketers. These updates can impact the effectiveness of social media campaigns and strategies, making it crucial to adapt and innovate. Highlighting successful social media campaigns and case studies can also provide inspiration and showcase innovative approaches that yield positive results. By learning from these examples, businesses can refine their own social media strategies and achieve better outcomes.\n",
      "\n",
      "In conclusion, staying informed about social media marketing trends in 2021 is vital for businesses and professionals looking to thrive in the digital landscape. By embracing the latest trends, leveraging key players in the industry, and learning from successful strategies, businesses can enhance their social media presence and connect with their target audience effectively. As the digital landscape continues to evolve, it is essential to stay proactive and adaptable in order to achieve success in social media marketing.\n",
      "\n",
      "\u001b[00m\n",
      "\u001b[1m\u001b[95m [DEBUG]: == Working Agent: Editor\u001b[00m\n",
      "\u001b[1m\u001b[95m [INFO]: == Starting Task: Proofread the given blog post for grammatical errors and alignment with the brand's voice.\u001b[00m\n",
      "\n",
      "\n",
      "\u001b[1m> Entering new CrewAgentExecutor chain...\u001b[0m\n"
     ]
    }
   ],
   "source": [
    "topic = \"YOUR TOPIC HERE\"\n",
    "result = crew.kickoff(inputs={\"topic\": topic})"
   ]
  },
  {
   "cell_type": "code",
   "execution_count": null,
   "metadata": {
    "height": 30
   },
   "outputs": [],
   "source": [
    "Markdown(result)"
   ]
  },
  {
   "cell_type": "markdown",
   "metadata": {},
   "source": [
    "<a name='1'></a>\n",
    " ## Other Popular Models as LLM for your Agents"
   ]
  },
  {
   "cell_type": "markdown",
   "metadata": {},
   "source": [
    "#### Hugging Face (HuggingFaceHub endpoint)\n",
    "\n",
    "```Python\n",
    "from langchain_community.llms import HuggingFaceHub\n",
    "\n",
    "llm = HuggingFaceHub(\n",
    "    repo_id=\"HuggingFaceH4/zephyr-7b-beta\",\n",
    "    huggingfacehub_api_token=\"<HF_TOKEN_HERE>\",\n",
    "    task=\"text-generation\",\n",
    ")\n",
    "\n",
    "### you will pass \"llm\" to your agent function\n",
    "```"
   ]
  },
  {
   "cell_type": "markdown",
   "metadata": {},
   "source": [
    "#### Mistral API\n",
    "\n",
    "```Python\n",
    "OPENAI_API_KEY=your-mistral-api-key\n",
    "OPENAI_API_BASE=https://api.mistral.ai/v1\n",
    "OPENAI_MODEL_NAME=\"mistral-small\"\n",
    "```"
   ]
  },
  {
   "cell_type": "markdown",
   "metadata": {},
   "source": [
    "#### Cohere\n",
    "\n",
    "```Python\n",
    "from langchain_community.chat_models import ChatCohere\n",
    "# Initialize language model\n",
    "os.environ[\"COHERE_API_KEY\"] = \"your-cohere-api-key\"\n",
    "llm = ChatCohere()\n",
    "\n",
    "### you will pass \"llm\" to your agent function\n",
    "```"
   ]
  },
  {
   "cell_type": "markdown",
   "metadata": {},
   "source": [
    "### For using Llama locally with Ollama and more, checkout the crewAI documentation on [Connecting to any LLM](https://docs.crewai.com/how-to/LLM-Connections/)."
   ]
  },
  {
   "cell_type": "code",
   "execution_count": null,
   "metadata": {
    "height": 30
   },
   "outputs": [],
   "source": []
  },
  {
   "cell_type": "code",
   "execution_count": null,
   "metadata": {
    "height": 30
   },
   "outputs": [],
   "source": []
  },
  {
   "cell_type": "code",
   "execution_count": null,
   "metadata": {
    "height": 30
   },
   "outputs": [],
   "source": []
  }
 ],
 "metadata": {
  "colab": {
   "gpuType": "T4",
   "provenance": []
  },
  "kernelspec": {
   "display_name": "Python 3 (ipykernel)",
   "language": "python",
   "name": "python3"
  },
  "language_info": {
   "codemirror_mode": {
    "name": "ipython",
    "version": 3
   },
   "file_extension": ".py",
   "mimetype": "text/x-python",
   "name": "python",
   "nbconvert_exporter": "python",
   "pygments_lexer": "ipython3",
   "version": "3.11.9"
  }
 },
 "nbformat": 4,
 "nbformat_minor": 4
}
