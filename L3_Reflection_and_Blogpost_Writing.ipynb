{
 "cells": [
  {
   "cell_type": "markdown",
   "id": "fc3024e2",
   "metadata": {},
   "source": [
    "# Lesson 3: Reflection and Blogpost Writing"
   ]
  },
  {
   "cell_type": "markdown",
   "id": "3b0cc42f",
   "metadata": {},
   "source": [
    "## Setup"
   ]
  },
  {
   "cell_type": "code",
   "execution_count": 1,
   "id": "96d39be0-eaf3-456d-8613-ba21099ed36b",
   "metadata": {
    "height": 30
   },
   "outputs": [],
   "source": [
    "llm_config = {\"model\": \"gpt-3.5-turbo\"}"
   ]
  },
  {
   "cell_type": "markdown",
   "id": "0969e6bb",
   "metadata": {},
   "source": [
    "## The task!"
   ]
  },
  {
   "cell_type": "code",
   "execution_count": 2,
   "id": "e8074032-3690-4de9-ad08-ea8323cb441b",
   "metadata": {
    "height": 115
   },
   "outputs": [],
   "source": [
    "task = '''\n",
    "        Write a concise but engaging blogpost about\n",
    "       DeepLearning.AI. Make sure the blogpost is\n",
    "       within 100 words.\n",
    "       '''\n"
   ]
  },
  {
   "cell_type": "markdown",
   "id": "1987f023",
   "metadata": {},
   "source": [
    "## Create a writer agent"
   ]
  },
  {
   "cell_type": "code",
   "execution_count": 3,
   "id": "fe0f0a47-a9fe-43a0-b7b1-79922e4c4ac8",
   "metadata": {
    "height": 183
   },
   "outputs": [],
   "source": [
    "import autogen\n",
    "\n",
    "writer = autogen.AssistantAgent(\n",
    "    name=\"Writer\",\n",
    "    system_message=\"You are a writer. You write engaging and concise \" \n",
    "        \"blogpost (with title) on given topics. You must polish your \"\n",
    "        \"writing based on the feedback you receive and give a refined \"\n",
    "        \"version. Only return your final work without additional comments.\",\n",
    "    llm_config=llm_config,\n",
    ")"
   ]
  },
  {
   "cell_type": "code",
   "execution_count": 4,
   "id": "7c7b4d8d-40f7-4a05-8958-25d20054de3a",
   "metadata": {
    "height": 30
   },
   "outputs": [],
   "source": [
    "reply = writer.generate_reply(messages=[{\"content\": task, \"role\": \"user\"}])"
   ]
  },
  {
   "cell_type": "code",
   "execution_count": 5,
   "id": "c501c97d-e338-4f36-a384-6ec45983cf77",
   "metadata": {
    "height": 30
   },
   "outputs": [
    {
     "name": "stdout",
     "output_type": "stream",
     "text": [
      "Title: Unveiling the Power of DeepLearning.AI\n",
      "\n",
      "Dive into the world of artificial intelligence with DeepLearning.AI, a game-changer in the tech industry. Developed by renowned expert Andrew Ng, this platform offers top-notch courses on deep learning, neural networks, and more. Whether you're a beginner or an advanced learner, DeepLearning.AI caters to all skill levels, making complex concepts easy to grasp. Gain practical knowledge, work on real-world projects, and join a thriving community of AI enthusiasts. Elevate your skills, boost your career, and unlock endless possibilities in AI. Embrace the future of technology with DeepLearning.AI today.\n"
     ]
    }
   ],
   "source": [
    "print(reply)"
   ]
  },
  {
   "cell_type": "markdown",
   "id": "49658114",
   "metadata": {},
   "source": [
    "## Adding reflection \n",
    "\n",
    "Create a critic agent to reflect on the work of the writer agent."
   ]
  },
  {
   "cell_type": "code",
   "execution_count": 6,
   "id": "c7fcd1c7-51ec-4915-8e97-bac03565c4c7",
   "metadata": {
    "height": 149
   },
   "outputs": [],
   "source": [
    "critic = autogen.AssistantAgent(\n",
    "    name=\"Critic\",\n",
    "    is_termination_msg=lambda x: x.get(\"content\", \"\").find(\"TERMINATE\") >= 0,\n",
    "    llm_config=llm_config,\n",
    "    system_message=\"You are a critic. You review the work of \"\n",
    "                \"the writer and provide constructive \"\n",
    "                \"feedback to help improve the quality of the content.\",\n",
    ")"
   ]
  },
  {
   "cell_type": "code",
   "execution_count": 7,
   "id": "899d5fdb-6081-470b-b287-8cf8b8142d0d",
   "metadata": {
    "height": 115
   },
   "outputs": [
    {
     "name": "stdout",
     "output_type": "stream",
     "text": [
      "\u001b[33mCritic\u001b[0m (to Writer):\n",
      "\n",
      "\n",
      "        Write a concise but engaging blogpost about\n",
      "       DeepLearning.AI. Make sure the blogpost is\n",
      "       within 100 words.\n",
      "       \n",
      "\n",
      "--------------------------------------------------------------------------------\n",
      "\u001b[33mWriter\u001b[0m (to Critic):\n",
      "\n",
      "Title: Unveiling the Power of DeepLearning.AI\n",
      "\n",
      "Dive into the world of artificial intelligence with DeepLearning.AI, a game-changer in the tech industry. Developed by renowned expert Andrew Ng, this platform offers top-notch courses on deep learning, neural networks, and more. Whether you're a beginner or an advanced learner, DeepLearning.AI caters to all skill levels, making complex concepts easy to grasp. Gain practical knowledge, work on real-world projects, and join a thriving community of AI enthusiasts. Elevate your skills, boost your career, and unlock endless possibilities in AI. Embrace the future of technology with DeepLearning.AI today.\n",
      "\n",
      "--------------------------------------------------------------------------------\n",
      "\u001b[33mCritic\u001b[0m (to Writer):\n",
      "\n",
      "This blogpost has effectively highlighted the key features and benefits of DeepLearning.AI in a concise and engaging manner. The language is clear and captivating, drawing readers in to learn more about the platform. To enhance the content further, you could consider including specific examples of the courses offered, success stories from learners, or the impact of AI in various industries. Providing more detailed information would give readers a better understanding of what they can expect from DeepLearning.AI and inspire them to explore further. Overall, the content is well-written and informative, with the potential to be even more compelling with additional details.\n",
      "\n",
      "--------------------------------------------------------------------------------\n",
      "\u001b[33mWriter\u001b[0m (to Critic):\n",
      "\n",
      "Title: Unveiling the Power of DeepLearning.AI\n",
      "\n",
      "Embark on an AI journey with DeepLearning.AI, curated by expert Andrew Ng. Delve into deep learning and neural networks through beginner-friendly courses. Uncover real-world applications, projects, and a vibrant AI community. Sharpen your skills, enhance your career prospects, and embrace AI's transformative potential. Explore courses like Neural Networks and Deep Learning, setting the stage for a tech-forward future. Join a league of AI enthusiasts and propel yourself into the heart of technological innovation with DeepLearning.AI leading the way.\n",
      "\n",
      "--------------------------------------------------------------------------------\n"
     ]
    }
   ],
   "source": [
    "res = critic.initiate_chat(\n",
    "    recipient=writer,\n",
    "    message=task,\n",
    "    max_turns=2,\n",
    "    summary_method=\"last_msg\"\n",
    ")"
   ]
  },
  {
   "cell_type": "markdown",
   "id": "e7b76449",
   "metadata": {},
   "source": [
    "## Nested chat"
   ]
  },
  {
   "cell_type": "code",
   "execution_count": 8,
   "id": "401ecf92-63e9-40ff-aeed-1c404352e4ab",
   "metadata": {
    "height": 200
   },
   "outputs": [],
   "source": [
    "SEO_reviewer = autogen.AssistantAgent(\n",
    "    name=\"SEO Reviewer\",\n",
    "    llm_config=llm_config,\n",
    "    system_message=\"You are an SEO reviewer, known for \"\n",
    "        \"your ability to optimize content for search engines, \"\n",
    "        \"ensuring that it ranks well and attracts organic traffic. \" \n",
    "        \"Make sure your suggestion is concise (within 3 bullet points), \"\n",
    "        \"concrete and to the point. \"\n",
    "        \"Begin the review by stating your role.\",\n",
    ")\n"
   ]
  },
  {
   "cell_type": "code",
   "execution_count": 9,
   "id": "f85acb81-7ab9-4c84-b8bb-6fbae3dce848",
   "metadata": {
    "height": 183
   },
   "outputs": [],
   "source": [
    "legal_reviewer = autogen.AssistantAgent(\n",
    "    name=\"Legal Reviewer\",\n",
    "    llm_config=llm_config,\n",
    "    system_message=\"You are a legal reviewer, known for \"\n",
    "        \"your ability to ensure that content is legally compliant \"\n",
    "        \"and free from any potential legal issues. \"\n",
    "        \"Make sure your suggestion is concise (within 3 bullet points), \"\n",
    "        \"concrete and to the point. \"\n",
    "        \"Begin the review by stating your role.\",\n",
    ")"
   ]
  },
  {
   "cell_type": "code",
   "execution_count": 10,
   "id": "d46a177a-8088-4956-8d2b-3e916b8ca5e9",
   "metadata": {
    "height": 183
   },
   "outputs": [],
   "source": [
    "ethics_reviewer = autogen.AssistantAgent(\n",
    "    name=\"Ethics Reviewer\",\n",
    "    llm_config=llm_config,\n",
    "    system_message=\"You are an ethics reviewer, known for \"\n",
    "        \"your ability to ensure that content is ethically sound \"\n",
    "        \"and free from any potential ethical issues. \" \n",
    "        \"Make sure your suggestion is concise (within 3 bullet points), \"\n",
    "        \"concrete and to the point. \"\n",
    "        \"Begin the review by stating your role. \",\n",
    ")"
   ]
  },
  {
   "cell_type": "code",
   "execution_count": 11,
   "id": "a7b2ad6f-8ba6-436a-9459-14ffbe8a32d3",
   "metadata": {
    "height": 115
   },
   "outputs": [],
   "source": [
    "meta_reviewer = autogen.AssistantAgent(\n",
    "    name=\"Meta Reviewer\",\n",
    "    llm_config=llm_config,\n",
    "    system_message=\"You are a meta reviewer, you aggragate and review \"\n",
    "    \"the work of other reviewers and give a final suggestion on the content.\",\n",
    ")"
   ]
  },
  {
   "cell_type": "markdown",
   "id": "913beca1",
   "metadata": {},
   "source": [
    "## Orchestrate the nested chats to solve the task"
   ]
  },
  {
   "cell_type": "code",
   "execution_count": 12,
   "id": "a11a70c7-19ca-4e5a-ad3d-f2b481fb5915",
   "metadata": {
    "height": 540
   },
   "outputs": [],
   "source": [
    "def reflection_message(recipient, messages, sender, config):\n",
    "    return f'''Review the following content. \n",
    "            \\n\\n {recipient.chat_messages_for_summary(sender)[-1]['content']}'''\n",
    "\n",
    "review_chats = [\n",
    "    {\n",
    "     \"recipient\": SEO_reviewer, \n",
    "     \"message\": reflection_message, \n",
    "     \"summary_method\": \"reflection_with_llm\",\n",
    "     \"summary_args\": {\"summary_prompt\" : \n",
    "        \"Return review into as JSON object only:\"\n",
    "        \"{'Reviewer': '', 'Review': ''}. Here Reviewer should be your role\",},\n",
    "     \"max_turns\": 1},\n",
    "    {\n",
    "    \"recipient\": legal_reviewer, \"message\": reflection_message, \n",
    "     \"summary_method\": \"reflection_with_llm\",\n",
    "     \"summary_args\": {\"summary_prompt\" : \n",
    "        \"Return review into as JSON object only:\"\n",
    "        \"{'Reviewer': '', 'Review': ''}.\",},\n",
    "     \"max_turns\": 1},\n",
    "    {\"recipient\": ethics_reviewer, \"message\": reflection_message, \n",
    "     \"summary_method\": \"reflection_with_llm\",\n",
    "     \"summary_args\": {\"summary_prompt\" : \n",
    "        \"Return review into as JSON object only:\"\n",
    "        \"{'reviewer': '', 'review': ''}\",},\n",
    "     \"max_turns\": 1},\n",
    "     {\"recipient\": meta_reviewer, \n",
    "      \"message\": \"Aggregrate feedback from all reviewers and give final suggestions on the writing.\", \n",
    "     \"max_turns\": 1},\n",
    "]\n"
   ]
  },
  {
   "cell_type": "code",
   "execution_count": 13,
   "id": "b3a40b66-5061-460d-ad9d-c0dbcfbba2e9",
   "metadata": {
    "height": 81
   },
   "outputs": [],
   "source": [
    "critic.register_nested_chats(\n",
    "    review_chats,\n",
    "    trigger=writer,\n",
    ")"
   ]
  },
  {
   "cell_type": "markdown",
   "id": "43b8797d",
   "metadata": {},
   "source": [
    "**Note**: You might get a slightly different response than what's shown in the video. Feel free to try different task."
   ]
  },
  {
   "cell_type": "code",
   "execution_count": 14,
   "id": "3b8dcac3-1e72-43b7-9d5a-1be740f6efd5",
   "metadata": {
    "height": 115
   },
   "outputs": [
    {
     "name": "stdout",
     "output_type": "stream",
     "text": [
      "\u001b[33mCritic\u001b[0m (to Writer):\n",
      "\n",
      "\n",
      "        Write a concise but engaging blogpost about\n",
      "       DeepLearning.AI. Make sure the blogpost is\n",
      "       within 100 words.\n",
      "       \n",
      "\n",
      "--------------------------------------------------------------------------------\n",
      "\u001b[33mWriter\u001b[0m (to Critic):\n",
      "\n",
      "Title: Unveiling the Power of DeepLearning.AI\n",
      "\n",
      "Dive into the world of artificial intelligence with DeepLearning.AI, a game-changer in the tech industry. Developed by renowned expert Andrew Ng, this platform offers top-notch courses on deep learning, neural networks, and more. Whether you're a beginner or an advanced learner, DeepLearning.AI caters to all skill levels, making complex concepts easy to grasp. Gain practical knowledge, work on real-world projects, and join a thriving community of AI enthusiasts. Elevate your skills, boost your career, and unlock endless possibilities in AI. Embrace the future of technology with DeepLearning.AI today.\n",
      "\n",
      "--------------------------------------------------------------------------------\n",
      "\u001b[34m\n",
      "********************************************************************************\u001b[0m\n",
      "\u001b[34mStarting a new chat....\u001b[0m\n",
      "\u001b[34m\n",
      "********************************************************************************\u001b[0m\n",
      "\u001b[33mCritic\u001b[0m (to SEO Reviewer):\n",
      "\n",
      "Review the following content. \n",
      "            \n",
      "\n",
      " Title: Unveiling the Power of DeepLearning.AI\n",
      "\n",
      "Dive into the world of artificial intelligence with DeepLearning.AI, a game-changer in the tech industry. Developed by renowned expert Andrew Ng, this platform offers top-notch courses on deep learning, neural networks, and more. Whether you're a beginner or an advanced learner, DeepLearning.AI caters to all skill levels, making complex concepts easy to grasp. Gain practical knowledge, work on real-world projects, and join a thriving community of AI enthusiasts. Elevate your skills, boost your career, and unlock endless possibilities in AI. Embrace the future of technology with DeepLearning.AI today.\n",
      "\n",
      "--------------------------------------------------------------------------------\n",
      "\u001b[33mSEO Reviewer\u001b[0m (to Critic):\n",
      "\n",
      "As an SEO reviewer:\n",
      "\n",
      "- Consider adding relevant keywords like \"online AI courses\" or \"best deep learning platform\" in the title and content to improve search engine visibility.\n",
      "- Include internal links to related content on the DeepLearning.AI website to enhance the site's SEO value and encourage users to explore further.\n",
      "- Utilize meta tags and descriptions with keywords related to AI education to improve the content's visibility in search engine results.\n",
      "\n",
      "--------------------------------------------------------------------------------\n",
      "\u001b[34m\n",
      "********************************************************************************\u001b[0m\n",
      "\u001b[34mStarting a new chat....\u001b[0m\n",
      "\u001b[34m\n",
      "********************************************************************************\u001b[0m\n",
      "\u001b[33mCritic\u001b[0m (to Legal Reviewer):\n",
      "\n",
      "Review the following content. \n",
      "            \n",
      "\n",
      " Title: Unveiling the Power of DeepLearning.AI\n",
      "\n",
      "Dive into the world of artificial intelligence with DeepLearning.AI, a game-changer in the tech industry. Developed by renowned expert Andrew Ng, this platform offers top-notch courses on deep learning, neural networks, and more. Whether you're a beginner or an advanced learner, DeepLearning.AI caters to all skill levels, making complex concepts easy to grasp. Gain practical knowledge, work on real-world projects, and join a thriving community of AI enthusiasts. Elevate your skills, boost your career, and unlock endless possibilities in AI. Embrace the future of technology with DeepLearning.AI today.\n",
      "Context: \n",
      "{'Reviewer': 'SEO Reviewer', 'Review': 'Consider adding relevant keywords like \"online AI courses\" or \"best deep learning platform\" in the title and content to improve search engine visibility. Include internal links to related content on the DeepLearning.AI website to enhance the site\\'s SEO value and encourage users to explore further. Utilize meta tags and descriptions with keywords related to AI education to improve the content\\'s visibility in search engine results.'}\n",
      "\n",
      "--------------------------------------------------------------------------------\n",
      "\u001b[33mLegal Reviewer\u001b[0m (to Critic):\n",
      "\n",
      "As a Legal Reviewer, my feedback on the content is as follows:\n",
      "\n",
      "- The content is legally compliant and does not raise any potential legal issues.\n",
      "- Ensure that any claims made about the platform's offerings, such as courses and community benefits, are factually accurate and substantiated.\n",
      "- Review and update any disclaimers or terms of service related to the platform mentioned in the content to ensure transparency and compliance with applicable laws and regulations.\n",
      "\n",
      "--------------------------------------------------------------------------------\n",
      "\u001b[34m\n",
      "********************************************************************************\u001b[0m\n",
      "\u001b[34mStarting a new chat....\u001b[0m\n",
      "\u001b[34m\n",
      "********************************************************************************\u001b[0m\n",
      "\u001b[33mCritic\u001b[0m (to Ethics Reviewer):\n",
      "\n",
      "Review the following content. \n",
      "            \n",
      "\n",
      " Title: Unveiling the Power of DeepLearning.AI\n",
      "\n",
      "Dive into the world of artificial intelligence with DeepLearning.AI, a game-changer in the tech industry. Developed by renowned expert Andrew Ng, this platform offers top-notch courses on deep learning, neural networks, and more. Whether you're a beginner or an advanced learner, DeepLearning.AI caters to all skill levels, making complex concepts easy to grasp. Gain practical knowledge, work on real-world projects, and join a thriving community of AI enthusiasts. Elevate your skills, boost your career, and unlock endless possibilities in AI. Embrace the future of technology with DeepLearning.AI today.\n",
      "Context: \n",
      "{'Reviewer': 'SEO Reviewer', 'Review': 'Consider adding relevant keywords like \"online AI courses\" or \"best deep learning platform\" in the title and content to improve search engine visibility. Include internal links to related content on the DeepLearning.AI website to enhance the site\\'s SEO value and encourage users to explore further. Utilize meta tags and descriptions with keywords related to AI education to improve the content\\'s visibility in search engine results.'}\n",
      "{'Reviewer': 'Legal Reviewer', 'Review': 'Ensure that any claims made about the platform\\'s offerings, such as courses and community benefits, are factually accurate and substantiated. Review and update any disclaimers or terms of service related to the platform mentioned in the content to ensure transparency and compliance with applicable laws and regulations.'}\n",
      "\n",
      "--------------------------------------------------------------------------------\n",
      "\u001b[33mEthics Reviewer\u001b[0m (to Critic):\n",
      "\n",
      "As an ethics reviewer: \n",
      "\n",
      "- Ensure that any testimonials or endorsements included in the content are authentic and not fabricated to deceive or mislead potential users.\n",
      "- Clearly disclose any potential conflicts of interest, such as financial relationships with DeepLearning.AI or Andrew Ng, that may influence the content's promotion.\n",
      "- Avoid making exaggerated or false claims about the benefits of DeepLearning.AI to maintain transparency and credibility with the audience.\n",
      "\n",
      "--------------------------------------------------------------------------------\n",
      "\u001b[34m\n",
      "********************************************************************************\u001b[0m\n",
      "\u001b[34mStarting a new chat....\u001b[0m\n",
      "\u001b[34m\n",
      "********************************************************************************\u001b[0m\n",
      "\u001b[33mCritic\u001b[0m (to Meta Reviewer):\n",
      "\n",
      "Aggregrate feedback from all reviewers and give final suggestions on the writing.\n",
      "Context: \n",
      "{'Reviewer': 'SEO Reviewer', 'Review': 'Consider adding relevant keywords like \"online AI courses\" or \"best deep learning platform\" in the title and content to improve search engine visibility. Include internal links to related content on the DeepLearning.AI website to enhance the site\\'s SEO value and encourage users to explore further. Utilize meta tags and descriptions with keywords related to AI education to improve the content\\'s visibility in search engine results.'}\n",
      "{'Reviewer': 'Legal Reviewer', 'Review': 'Ensure that any claims made about the platform\\'s offerings, such as courses and community benefits, are factually accurate and substantiated. Review and update any disclaimers or terms of service related to the platform mentioned in the content to ensure transparency and compliance with applicable laws and regulations.'}\n",
      "{'reviewer': 'Ethics Reviewer', 'review': 'Ensure that any testimonials or endorsements included in the content are authentic and not fabricated to deceive or mislead potential users. Clearly disclose any potential conflicts of interest, such as financial relationships with DeepLearning.AI or Andrew Ng, that may influence the content\\'s promotion. Avoid making exaggerated or false claims about the benefits of DeepLearning.AI to maintain transparency and credibility with the audience.'}\n"
     ]
    },
    {
     "name": "stdout",
     "output_type": "stream",
     "text": [
      "\n",
      "--------------------------------------------------------------------------------\n",
      "\u001b[33mMeta Reviewer\u001b[0m (to Critic):\n",
      "\n",
      "Aggregated feedback:\n",
      "1. SEO Reviewer suggests adding relevant keywords, internal links, and utilizing meta tags for improved search engine visibility.\n",
      "2. Legal Reviewer emphasizes the importance of ensuring factual accuracy, substantiating claims, and updating disclaimers for transparency and compliance.\n",
      "3. Ethics Reviewer highlights the need for authentic testimonials, disclosure of conflicts of interest, and avoiding exaggerated or false claims for credibility.\n",
      "\n",
      "Final suggestions:\n",
      "1. Incorporate relevant keywords like \"online AI courses\" and \"best deep learning platform\" in the title and content for better search engine optimization.\n",
      "2. Review and update any claims about the platform's offerings to ensure they are factually accurate and substantiated.\n",
      "3. Clearly disclose any potential conflicts of interest, such as financial relationships, to maintain transparency.\n",
      "4. Avoid making exaggerated or false claims about the benefits of DeepLearning.AI to uphold credibility with the audience.\n",
      "5. Use internal links to related content on the DeepLearning.AI website to enhance SEO value and encourage further exploration by users.\n",
      "6. Utilize meta tags and descriptions with AI education-related keywords to improve visibility in search engine results.\n",
      "\n",
      "Overall, the content should focus on accuracy, transparency, and credibility while optimizing for search engines and user engagement.\n",
      "\n",
      "--------------------------------------------------------------------------------\n",
      "\u001b[33mCritic\u001b[0m (to Writer):\n",
      "\n",
      "Aggregated feedback:\n",
      "1. SEO Reviewer suggests adding relevant keywords, internal links, and utilizing meta tags for improved search engine visibility.\n",
      "2. Legal Reviewer emphasizes the importance of ensuring factual accuracy, substantiating claims, and updating disclaimers for transparency and compliance.\n",
      "3. Ethics Reviewer highlights the need for authentic testimonials, disclosure of conflicts of interest, and avoiding exaggerated or false claims for credibility.\n",
      "\n",
      "Final suggestions:\n",
      "1. Incorporate relevant keywords like \"online AI courses\" and \"best deep learning platform\" in the title and content for better search engine optimization.\n",
      "2. Review and update any claims about the platform's offerings to ensure they are factually accurate and substantiated.\n",
      "3. Clearly disclose any potential conflicts of interest, such as financial relationships, to maintain transparency.\n",
      "4. Avoid making exaggerated or false claims about the benefits of DeepLearning.AI to uphold credibility with the audience.\n",
      "5. Use internal links to related content on the DeepLearning.AI website to enhance SEO value and encourage further exploration by users.\n",
      "6. Utilize meta tags and descriptions with AI education-related keywords to improve visibility in search engine results.\n",
      "\n",
      "Overall, the content should focus on accuracy, transparency, and credibility while optimizing for search engines and user engagement.\n",
      "\n",
      "--------------------------------------------------------------------------------\n",
      "\u001b[33mWriter\u001b[0m (to Critic):\n",
      "\n",
      "Title: Mastering AI: Unleashing the Potential of DeepLearning.AI\n",
      "\n",
      "Delve into the world of artificial intelligence with DeepLearning.AI, a leading platform offering top-tier online AI courses. Created by renowned expert Andrew Ng, these courses cover deep learning, neural networks, and more. Whether you're a novice or an expert, DeepLearning.AI caters to all levels, simplifying complex concepts. Gain practical knowledge, work on real projects, and join a vibrant AI community. Elevate your skills, advance your career, and explore limitless possibilities in AI. Discover the future of technology with DeepLearning.AI today.\n",
      "\n",
      "--------------------------------------------------------------------------------\n"
     ]
    }
   ],
   "source": [
    "res = critic.initiate_chat(\n",
    "    recipient=writer,\n",
    "    message=task,\n",
    "    max_turns=2,\n",
    "    summary_method=\"last_msg\"\n",
    ")"
   ]
  },
  {
   "cell_type": "markdown",
   "id": "c5c833b0",
   "metadata": {},
   "source": [
    "## Get the summary"
   ]
  },
  {
   "cell_type": "code",
   "execution_count": 15,
   "id": "68ef82ed-f102-4964-b7be-60e2f258a39b",
   "metadata": {
    "height": 30
   },
   "outputs": [
    {
     "name": "stdout",
     "output_type": "stream",
     "text": [
      "Title: Mastering AI: Unleashing the Potential of DeepLearning.AI\n",
      "\n",
      "Delve into the world of artificial intelligence with DeepLearning.AI, a leading platform offering top-tier online AI courses. Created by renowned expert Andrew Ng, these courses cover deep learning, neural networks, and more. Whether you're a novice or an expert, DeepLearning.AI caters to all levels, simplifying complex concepts. Gain practical knowledge, work on real projects, and join a vibrant AI community. Elevate your skills, advance your career, and explore limitless possibilities in AI. Discover the future of technology with DeepLearning.AI today.\n"
     ]
    }
   ],
   "source": [
    "print(res.summary)"
   ]
  },
  {
   "cell_type": "code",
   "execution_count": null,
   "id": "de35698e",
   "metadata": {
    "height": 30
   },
   "outputs": [],
   "source": []
  }
 ],
 "metadata": {
  "kernelspec": {
   "display_name": "Python 3 (ipykernel)",
   "language": "python",
   "name": "python3"
  },
  "language_info": {
   "codemirror_mode": {
    "name": "ipython",
    "version": 3
   },
   "file_extension": ".py",
   "mimetype": "text/x-python",
   "name": "python",
   "nbconvert_exporter": "python",
   "pygments_lexer": "ipython3",
   "version": "3.11.9"
  }
 },
 "nbformat": 4,
 "nbformat_minor": 5
}
