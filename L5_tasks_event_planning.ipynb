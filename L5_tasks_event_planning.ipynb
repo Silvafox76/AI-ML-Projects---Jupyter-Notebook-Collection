{
 "cells": [
  {
   "cell_type": "markdown",
   "metadata": {},
   "source": [
    "# L5: Automate Event Planning\n",
    "\n",
    "In this lesson, you will learn more about Tasks."
   ]
  },
  {
   "cell_type": "markdown",
   "metadata": {},
   "source": [
    "The libraries are already installed in the classroom. If you're running this notebook on your own machine, you can install the following:\n",
    "```Python\n",
    "!pip install crewai==0.28.8 crewai_tools==0.1.6 langchain_community==0.0.29\n",
    "```"
   ]
  },
  {
   "cell_type": "code",
   "execution_count": 1,
   "metadata": {
    "height": 64
   },
   "outputs": [],
   "source": [
    "# Warning control\n",
    "import warnings\n",
    "warnings.filterwarnings('ignore')"
   ]
  },
  {
   "cell_type": "markdown",
   "metadata": {},
   "source": [
    "- Import libraries, APIs and LLM"
   ]
  },
  {
   "cell_type": "code",
   "execution_count": 2,
   "metadata": {
    "height": 30
   },
   "outputs": [],
   "source": [
    "from crewai import Agent, Crew, Task"
   ]
  },
  {
   "cell_type": "markdown",
   "metadata": {},
   "source": [
    "**Note**: \n",
    "- The video uses `gpt-4-turbo`, but due to certain constraints, and in order to offer this course for free to everyone, the code you'll run here will use `gpt-3.5-turbo`.\n",
    "- You can use `gpt-4-turbo` when you run the notebook _locally_ (using `gpt-4-turbo` will not work on the platform)\n",
    "- Thank you for your understanding!"
   ]
  },
  {
   "cell_type": "code",
   "execution_count": 3,
   "metadata": {
    "height": 115
   },
   "outputs": [],
   "source": [
    "import os\n",
    "from utils import get_openai_api_key,get_serper_api_key\n",
    "\n",
    "openai_api_key = get_openai_api_key()\n",
    "os.environ[\"OPENAI_MODEL_NAME\"] = 'gpt-3.5-turbo'\n",
    "os.environ[\"SERPER_API_KEY\"] = get_serper_api_key()"
   ]
  },
  {
   "cell_type": "markdown",
   "metadata": {},
   "source": [
    "## crewAI Tools"
   ]
  },
  {
   "cell_type": "code",
   "execution_count": 4,
   "metadata": {
    "height": 98
   },
   "outputs": [],
   "source": [
    "from crewai_tools import ScrapeWebsiteTool, SerperDevTool\n",
    "\n",
    "# Initialize the tools\n",
    "search_tool = SerperDevTool()\n",
    "scrape_tool = ScrapeWebsiteTool()"
   ]
  },
  {
   "cell_type": "markdown",
   "metadata": {},
   "source": [
    "## Creating Agents"
   ]
  },
  {
   "cell_type": "code",
   "execution_count": 5,
   "metadata": {
    "height": 268
   },
   "outputs": [],
   "source": [
    "# Agent 1: Venue Coordinator\n",
    "venue_coordinator = Agent(\n",
    "    role=\"Venue Coordinator\",\n",
    "    goal=\"Identify and book an appropriate venue \"\n",
    "    \"based on event requirements\",\n",
    "    tools=[search_tool, scrape_tool],\n",
    "    verbose=True,\n",
    "    backstory=(\n",
    "        \"With a keen sense of space and \"\n",
    "        \"understanding of event logistics, \"\n",
    "        \"you excel at finding and securing \"\n",
    "        \"the perfect venue that fits the event's theme, \"\n",
    "        \"size, and budget constraints.\"\n",
    "    )\n",
    ")"
   ]
  },
  {
   "cell_type": "code",
   "execution_count": 6,
   "metadata": {
    "height": 285
   },
   "outputs": [],
   "source": [
    " # Agent 2: Logistics Manager\n",
    "logistics_manager = Agent(\n",
    "    role='Logistics Manager',\n",
    "    goal=(\n",
    "        \"Manage all logistics for the event \"\n",
    "        \"including catering and equipmen\"\n",
    "    ),\n",
    "    tools=[search_tool, scrape_tool],\n",
    "    verbose=True,\n",
    "    backstory=(\n",
    "        \"Organized and detail-oriented, \"\n",
    "        \"you ensure that every logistical aspect of the event \"\n",
    "        \"from catering to equipment setup \"\n",
    "        \"is flawlessly executed to create a seamless experience.\"\n",
    "    )\n",
    ")"
   ]
  },
  {
   "cell_type": "code",
   "execution_count": 7,
   "metadata": {
    "height": 251
   },
   "outputs": [],
   "source": [
    "# Agent 3: Marketing and Communications Agent\n",
    "marketing_communications_agent = Agent(\n",
    "    role=\"Marketing and Communications Agent\",\n",
    "    goal=\"Effectively market the event and \"\n",
    "         \"communicate with participants\",\n",
    "    tools=[search_tool, scrape_tool],\n",
    "    verbose=True,\n",
    "    backstory=(\n",
    "        \"Creative and communicative, \"\n",
    "        \"you craft compelling messages and \"\n",
    "        \"engage with potential attendees \"\n",
    "        \"to maximize event exposure and participation.\"\n",
    "    )\n",
    ")"
   ]
  },
  {
   "cell_type": "markdown",
   "metadata": {},
   "source": [
    "## Creating Venue Pydantic Object\n",
    "\n",
    "- Create a class `VenueDetails` using [Pydantic BaseModel](https://docs.pydantic.dev/latest/api/base_model/).\n",
    "- Agents will populate this object with information about different venues by creating different instances of it."
   ]
  },
  {
   "cell_type": "code",
   "execution_count": 8,
   "metadata": {
    "height": 149
   },
   "outputs": [],
   "source": [
    "from pydantic import BaseModel\n",
    "# Define a Pydantic model for venue details \n",
    "# (demonstrating Output as Pydantic)\n",
    "class VenueDetails(BaseModel):\n",
    "    name: str\n",
    "    address: str\n",
    "    capacity: int\n",
    "    booking_status: str"
   ]
  },
  {
   "cell_type": "markdown",
   "metadata": {},
   "source": [
    "## Creating Tasks\n",
    "- By using `output_json`, you can specify the structure of the output you want.\n",
    "- By using `output_file`, you can get your output in a file.\n",
    "- By setting `human_input=True`, the task will ask for human feedback (whether you like the results or not) before finalising it."
   ]
  },
  {
   "cell_type": "code",
   "execution_count": 9,
   "metadata": {
    "height": 200
   },
   "outputs": [],
   "source": [
    "venue_task = Task(\n",
    "    description=\"Find a venue in {event_city} \"\n",
    "                \"that meets criteria for {event_topic}.\",\n",
    "    expected_output=\"All the details of a specifically chosen\"\n",
    "                    \"venue you found to accommodate the event.\",\n",
    "    human_input=True,\n",
    "    output_json=VenueDetails,\n",
    "    output_file=\"venue_details.json\",  \n",
    "      # Outputs the venue details as a JSON file\n",
    "    agent=venue_coordinator\n",
    ")"
   ]
  },
  {
   "cell_type": "markdown",
   "metadata": {},
   "source": [
    "- By setting `async_execution=True`, it means the task can run in parallel with the tasks which come after it."
   ]
  },
  {
   "cell_type": "code",
   "execution_count": 10,
   "metadata": {
    "height": 200
   },
   "outputs": [],
   "source": [
    "logistics_task = Task(\n",
    "    description=\"Coordinate catering and \"\n",
    "                 \"equipment for an event \"\n",
    "                 \"with {expected_participants} participants \"\n",
    "                 \"on {tentative_date}.\",\n",
    "    expected_output=\"Confirmation of all logistics arrangements \"\n",
    "                    \"including catering and equipment setup.\",\n",
    "    human_input=True,\n",
    "    async_execution=True,\n",
    "    agent=logistics_manager\n",
    ")"
   ]
  },
  {
   "cell_type": "code",
   "execution_count": 11,
   "metadata": {
    "height": 183
   },
   "outputs": [],
   "source": [
    "marketing_task = Task(\n",
    "    description=\"Promote the {event_topic} \"\n",
    "                \"aiming to engage at least\"\n",
    "                \"{expected_participants} potential attendees.\",\n",
    "    expected_output=\"Report on marketing activities \"\n",
    "                    \"and attendee engagement formatted as markdown.\",\n",
    "    async_execution=True,\n",
    "    output_file=\"marketing_report.md\",  # Outputs the report as a text file\n",
    "    agent=marketing_communications_agent\n",
    ")"
   ]
  },
  {
   "cell_type": "markdown",
   "metadata": {},
   "source": [
    "## Creating the Crew"
   ]
  },
  {
   "cell_type": "markdown",
   "metadata": {},
   "source": [
    "**Note**: Since you set `async_execution=True` for `logistics_task` and `marketing_task` tasks, now the order for them does not matter in the `tasks` list."
   ]
  },
  {
   "cell_type": "code",
   "execution_count": 12,
   "metadata": {
    "height": 217
   },
   "outputs": [],
   "source": [
    "# Define the crew with agents and tasks\n",
    "event_management_crew = Crew(\n",
    "    agents=[venue_coordinator, \n",
    "            logistics_manager, \n",
    "            marketing_communications_agent],\n",
    "    \n",
    "    tasks=[venue_task, \n",
    "           logistics_task, \n",
    "           marketing_task],\n",
    "    \n",
    "    verbose=True\n",
    ")"
   ]
  },
  {
   "cell_type": "markdown",
   "metadata": {},
   "source": [
    "## Running the Crew\n",
    "\n",
    "- Set the inputs for the execution of the crew."
   ]
  },
  {
   "cell_type": "code",
   "execution_count": 13,
   "metadata": {
    "height": 200
   },
   "outputs": [],
   "source": [
    "event_details = {\n",
    "    'event_topic': \"Tech Innovation Conference\",\n",
    "    'event_description': \"A gathering of tech innovators \"\n",
    "                         \"and industry leaders \"\n",
    "                         \"to explore future technologies.\",\n",
    "    'event_city': \"San Francisco\",\n",
    "    'tentative_date': \"2024-09-15\",\n",
    "    'expected_participants': 500,\n",
    "    'budget': 20000,\n",
    "    'venue_type': \"Conference Hall\"\n",
    "}"
   ]
  },
  {
   "cell_type": "markdown",
   "metadata": {},
   "source": [
    "**Note 1**: LLMs can provide different outputs for they same input, so what you get might be different than what you see in the video."
   ]
  },
  {
   "cell_type": "markdown",
   "metadata": {},
   "source": [
    "**Note 2**: \n",
    "- Since you set `human_input=True` for some tasks, the execution will ask for your input before it finishes running.\n",
    "- When it asks for feedback, use your mouse pointer to first click in the text box before typing anything."
   ]
  },
  {
   "cell_type": "code",
   "execution_count": null,
   "metadata": {
    "height": 30
   },
   "outputs": [
    {
     "name": "stdout",
     "output_type": "stream",
     "text": [
      "\u001b[1m\u001b[95m [DEBUG]: == Working Agent: Venue Coordinator\u001b[00m\n",
      "\u001b[1m\u001b[95m [INFO]: == Starting Task: Find a venue in San Francisco that meets criteria for Tech Innovation Conference.\u001b[00m\n",
      "\n",
      "\n",
      "\u001b[1m> Entering new CrewAgentExecutor chain...\u001b[0m\n",
      "\u001b[32;1m\u001b[1;3mI need to find a venue in San Francisco that meets the criteria for a Tech Innovation Conference. I must consider the theme, size, and budget constraints of the event.\n",
      "\n",
      "Action: Search the internet\n",
      "Action Input: {\"search_query\": \"venues for tech events in San Francisco\"}\u001b[0m\u001b[95m \n",
      "\n",
      "\n",
      "Search results: Title: Discover Tech Conferences Events & Activities in San Francisco, CA\n",
      "Link: https://www.eventbrite.com/d/ca--san-francisco/tech-conferences/\n",
      "Snippet: Teens, Tech, and the \"Adolescence Effect\" with Kaamna Bhojwani. Thursday • 6:00 PM. 2935 Pacific Avenue, San Francisco CA 94115. Check ticket price on event.\n",
      "---\n",
      "Title: Networking Venues for Rent in San Francisco, CA - Tagvenue\n",
      "Link: https://www.tagvenue.com/us/hire/networking-venues/san-francisco\n",
      "Snippet: SoMa (South of Market): Known for its tech and startup scene, SoMa provides modern and creative spaces ideal for tech networking events. Attractions like ...\n",
      "---\n",
      "Title: IT & Technology Events in San Francisco - 10Times\n",
      "Link: https://10times.com/sanfrancisco-us/technology\n",
      "Snippet: The AI Engineer World's Fair is an exciting tradeshow held at the San Francisco Marriott Marquis, showcasing an impressive convergence of talent and innovation ...\n",
      "---\n",
      "Title: Best Spots in the Bay Area to Network with Tech Professionals - Reddit\n",
      "Link: https://www.reddit.com/r/siliconvalley/comments/1enpdph/best_spots_in_the_bay_area_to_network_with_tech/\n",
      "Snippet: Can anyone suggest good coworking spaces, cafes, or bars where tech people hang out? Any advice on how to approach networking in the Bay Area would be great ...\n",
      "---\n",
      "Title: Top 10 Must-Attend Tech Meetups and Conferences in San Francisco\n",
      "Link: https://www.nucamp.co/blog/coding-bootcamp-san-francisco-ca-top-10-mustattend-tech-meetups-and-conferences-in-san-francisco\n",
      "Snippet: From AI Breakthrough sessions to the Chief Product Officer Summit, these events connect you directly with the innovators shaping our digital future.\n",
      "---\n",
      "Title: San Francisco - Events Calendar - Luma\n",
      "Link: https://lu.ma/sf\n",
      "Snippet: In San Francisco, innovation pulses through tech talks, creative meetups, and more. A haven for tech, design, and creativity.\n",
      "---\n",
      "Title: SF Tech Events - GarysGuide\n",
      "Link: https://www.garysguide.com/events?region=sf\n",
      "Snippet: SaaStr Annual Summit Venue, To Be Announced, San Francisco With Drew Houston (Founder/CEO, Dropbox), Yamini Ranjan (CEO, HubSpot), Sarah Acton (CCO, Bill), ...\n",
      "---\n",
      "Title: Startups and Tech Events in San Francisco | Meetup\n",
      "Link: https://www.meetup.com/startups-and-tech-events-in-san-francisco/\n",
      "Snippet: W﻿e organize Startup and Tech Events in San Francisco. Join our events to meet founders from Canada and US, and connect with Investors.\n",
      "---\n",
      "Title: Venue: TECHSPO San Francisco 2025 · Technology Expo · July 21\n",
      "Link: https://techsposanfrancisco.com/venue/\n",
      "Snippet: The Grand Hyatt Hotel at SFO is a premier conference center venue where TECHSPO San Francisco 2025 will be held.\n",
      "---\n",
      "Title: A day in SF area. Interested in tech. Any recommendations? : r/AskSF\n",
      "Link: https://www.reddit.com/r/AskSF/comments/16y38b4/a_day_in_sf_area_interested_in_tech_any/\n",
      "Snippet: There's the Tech Interactive in Downtown San Jose, a good science and technology museum. The San Jose Museum of Art (just across the park from ...\n",
      "---\n",
      "\n",
      "\u001b[00m\n",
      "\u001b[32;1m\u001b[1;3mThought:\n",
      "Based on the search results, I have found potential venues for the Tech Innovation Conference in San Francisco. Now, I need to gather more information about each venue to determine the best fit for the event.\n",
      "\n",
      "Action: Read website content\n",
      "Action Input: {\"website_url\": \"https://techsposanfrancisco.com/venue/\"}\u001b[0m\u001b[95m \n",
      "\n",
      "Venue: TECHSPO San Francisco 2025 · Technology Expo · July 21 - 22, 2025 · (Internet ~ Mobile ~ AdTech ~ MarTech ~ SaaS)\n",
      "Event Starts in: Hurry Up!\n",
      "Add to Calendar\n",
      "06/02/2022 9:00 AM\n",
      "06/03/2022 4:00 PM\n",
      "Pacific\n",
      "TECHSPO Silicon Valley 2022\n",
      "Where Business, Tech and Innovation Collide in Silicon Valley!\n",
      "TECHSPO Silicon Valley 2022 is a two day technology expo taking place June 2nd to 3rd, 2022 at Airport Marriott Waterfront in San Francisco, California in the heart of Silicon Beach. TECHSPO LA brings together developers, brands, marketers, technology providers, designers, innovators and evangelists looking to set the pace in our advanced world of technology. Exhibitors showcase the next generation of technology & innovation, including; Internet, Mobile, Adtech, Martech and SaaS technologies. Be prepared to be inspired, amazed and educated on how these evolving technologies will impact your business for the better.\n",
      "As part of TECHSPO Silicon Valley are two limited attendance conferences, DigiMarCon West 2022 Digital Marketing Conference (https://digimarconwest.com) and Sales Summit West (https://salessummitwest.com). If the conferences are where the learning, theory and inspiration happens, then the TECHSPO floor is where the testing, networking and product interaction takes place.\n",
      "The TECHSPO floor is free to attend (for a limited time)! Register today! For more details visit https://techsposanfrancisco.com.\n",
      "Airport Marriott Waterfront, San Francisco, CA\n",
      " Co-located Event: DigiMarCon San Francisco\n",
      "Just type and press 'enter'\n",
      " ✕ \n",
      "BUY TICKETS\n",
      "VISIT\n",
      "ABOUT\n",
      "About \n",
      "Venue \n",
      "Who Should Attend \n",
      "Agenda at a Glance \n",
      "Networking \n",
      "Online Networking \n",
      "Attendee Info \n",
      "EVENT ZONES\n",
      "Featured Zones \n",
      "TECHSPO Hall \n",
      "Training Theater \n",
      "Podcast Studio \n",
      "Photo Booth \n",
      "Dining Hall \n",
      "DigiMarCon Auditorium \n",
      "EVENT PREVIEW\n",
      "Brochure \n",
      "Photos \n",
      "Reviews \n",
      "Testimonials \n",
      "EXHIBITORS\n",
      "Exhibitors \n",
      "SPONSORS \n",
      "Sponsors \n",
      "PARTNERS \n",
      "Partners \n",
      "EXHIBIT\n",
      "EXHIBIT \n",
      "Why Exhibit? \n",
      "Book an Exhibit Booth \n",
      "Exhibitor Reviews \n",
      "Exhibitor Testimonials \n",
      "Request an Exhibitor Prospectus \n",
      "Join Next Exhibitor Overview Webinar \n",
      "TRAVEL\n",
      "TRAVEL \n",
      "Travel Info \n",
      "HOTEL \n",
      "Hotel Info \n",
      "Why Stay At The Official Hotel \n",
      "OPPS\n",
      "OPPORTUNITIES \n",
      "Get Involved \n",
      "Sponsorship \n",
      "Exhibit \n",
      "Advertise \n",
      "Speak \n",
      "Volunteer \n",
      "MEDIA\n",
      "MEDIA\n",
      "Blog \n",
      "Newsletter \n",
      "Photos \n",
      "Social Media Profiles \n",
      "RESOURCES\n",
      "Brochure \n",
      "“I’m Going” Badges \n",
      "Banners \n",
      "Mobile App \n",
      "PRESS\n",
      "Press Release \n",
      "ANNOUNCEMENTS\n",
      "Justify Your Trip \n",
      "Celebrating 10 Years \n",
      "Seeking Strategic Buyer \n",
      "CONTACT\n",
      "CONTACT \n",
      "Let’s Connect \n",
      "Subscribe \n",
      "Call For Volunteers \n",
      "Sponsorship Inquiries \n",
      "Feedback \n",
      "FAQ \n",
      "Contact Us \n",
      "BUY TICKETS\n",
      "REGISTER \n",
      "Register Now \n",
      "Rates & Pass Details \n",
      "#TechspoLA // Download Brochure // Phone: +1 (800) 805-5385 (Toll Free)\n",
      "DOWNLOAD BROCHURE\n",
      "Venue\n",
      "Home » Venue \n",
      "Grand Hyatt Hotel at SFO\n",
      "55 S McDonnell Rd, San Francisco, CA 94128, United States\n",
      "Step off the AirTrain and into the lobby of Grand Hyatt Hotel at SFO where you will enjoy luxurious guest rooms with stunning views of the bay and airport through soundproof floor-to-ceiling windows. Enjoy culinary delights or have a drink with friends in our bar without ever leaving the airport or take the train to the heart of San Francisco. When you’re ready to venture out, San Francisco, San Mateo and along cost of HWY 1 and local attractions are a short drive away. Enjoy easy access to the city and Silicon Valley via major freeways and the nearby BART station. The Grand Hyatt Hotel at SFO is a premier conference center venue where TECHSPO San Francisco 2025 will be held.\n",
      "TECHSPO San Francisco 2025 will be held in the Grand Ballroom on the Second Floor (refer to the floor plan below).\n",
      "It is important to Check-in at the Registration Desk located in the Grand Ballroom Foyer on the Second Floor when you first arrive to the Grand Hyatt Hotel at SFO, to collect your badge, lanyard and expo guide and also to familiarize yourself with the venue location.\n",
      "Registration Check-in Hours\n",
      "Monday, July 21st, 2025 – 9:00am to 4:00pm\n",
      "Tuesday, July 22nd, 2025 – 9:00am to 4:00pm\n",
      "Floor Plan\n",
      "Register Now \n",
      "GET YOUR FREE TECHSPO BROCHURE AND \n",
      "NEVER MISS AN UPDATESign up for email updates and get your the FREE TECHSPO San Francisco brochure and stay in the know about all things TECHSPO including price changes and discounts\n",
      "*\n",
      "First\n",
      "Last\n",
      "*\n",
      "This iframe contains the logic required to handle Ajax powered Gravity Forms.\n",
      "\t\t By submitting your email you agree that TECHSPO may send you promotional email messages with offers, updates and other marketing messages. You understand and agree that TECHSPO may use your information in accordance with it’s Privacy Policy.\n",
      "REGISTER NOW FOR YOUR PASS\n",
      "To ensure attendees get the full benefit of an intimate expo,we are only offering a limited number of passes.\n",
      "Get My Pass Now!\n",
      "UPCOMING TECHSPO EVENTS\n",
      "Select:\n",
      "By Event Name\n",
      "By City\n",
      "By State / Country \n",
      "Click Here to View the Upcoming Event Calendar\n",
      "UNITED STATES\n",
      "»Atlanta\n",
      "»Boston\n",
      "»Chicago\n",
      "»Dallas\n",
      "»Denver\n",
      "»Houston\n",
      "»Arizona\n",
      "»California\n",
      "»Colorado\n",
      "»Florida\n",
      "»Georgia\n",
      "»TECHSPO At Sea\n",
      "»TECHSPO Atlanta\n",
      "»TECHSPO Boston\n",
      "»TECHSPO Chicago\n",
      "»TECHSPO Dallas\n",
      "»TECHSPO Denver\n",
      "UNITED STATES\n",
      "»Los Angeles\n",
      "»New York City\n",
      "»Orlando\n",
      "»Phoenix\n",
      "»San Diego\n",
      "»San Francisco\n",
      "»Illinois\n",
      "»Massachusetts\n",
      "»New York\n",
      "»Texas\n",
      "»TECHSPO Houston\n",
      "»TECHSPO Los Angeles\n",
      "»TECHSPO New York\n",
      "»TECHSPO Phoenix\n",
      "»TECHSPO San Diego\n",
      "»TECHSPO San Francisco\n",
      "CANADA\n",
      "»Toronto\n",
      "»Vancouver\n",
      "»British Columbia\n",
      "»Ontario\n",
      "»TECHSPO Toronto\n",
      "»TECHSPO Vancouver\n",
      "UNITED KINGDOM \n",
      "»London\n",
      "»United Kingdom\n",
      "»TECHSPO London\n",
      "EUROPE\n",
      "»Amsterdam\n",
      "»Netherlands\n",
      "»TECHSPO Amsterdam\n",
      "AFRICA\n",
      "»Cape Town\n",
      "»Johannesburg\n",
      "»South Africa\n",
      "»TECHSPO Cape Town\n",
      "»TECHSPO Johannesburg\n",
      "MIDDLE EAST\n",
      "»Dubai\n",
      "»United Arab Emirates\n",
      "»TECHSPO Dubai\n",
      "ASIA\n",
      "»New Delhi\n",
      "»Singapore\n",
      "»India\n",
      "»Singapore\n",
      "»TECHSPO Delhi NCR\n",
      "»TECHSPO Singapore\n",
      "OCEANIA\n",
      "»Sydney\n",
      "»Australia\n",
      "»TECHSPO Sydney\n",
      "Where Business, Tech and Innovation Collide\n",
      "GENERAL INFO\n",
      "»About\n",
      "»Agenda at a Glance\n",
      "»Venue\n",
      "»Who Should Attend\n",
      "»Top Reasons to Attend\n",
      "»FAQ’s\n",
      "OFFICIAL EVENT SERIES OF\n",
      "GENERAL INFO\n",
      "»Buy Passes\n",
      "»Rates & Pass Details\n",
      "»Testimonials\n",
      "»Sponsorship Opportunities\n",
      "»Exhibiting Opportunities\n",
      "»Contact Us\n",
      "CO-LOCATED EVENT SERIES\n",
      "INTERNET\n",
      "·MOBILE\n",
      "·ADTECH\n",
      "·MARTECH\n",
      "·SAAS\n",
      "CONNECT WITH US\n",
      "#Techspo | #techsposanfrancisco\n",
      " Facebook\n",
      " Twitter\n",
      " LinkedIn\n",
      " Instagram\n",
      " Pinterest\n",
      "POPULAR TAGS\n",
      "»San Francisco Technology Events\n",
      "»2024 San Francisco Technology Events\n",
      "»Best San Francisco Technology Events\n",
      "»Top San Francisco Technology Events\n",
      "»San Francisco Technology Conferences\n",
      "»San Francisco Technology Expos\n",
      "EVENT TECHNOLOGY PARTNER\n",
      "POPULAR TAGS\n",
      "»San Francisco Technology Festivals\n",
      "»San Francisco Technology Meetings\n",
      "»San Francisco Technology Meetups\n",
      "»San Francisco Technology Seminars\n",
      "»San Francisco Technology Summits\n",
      "»San Francisco Technology Workshops\n",
      "PRIVATE EQUITY PARTNER\n",
      "San Francisco Tech Events   |   San Francisco Technology Events   |   San Francisco Tech Events   |   San Francisco Technology Events   |   San Francisco Tech Events   |   San Francisco Technology Events \n",
      "©2015-2024 TECHSPO, LLC. TECHSPO®    and TECHSPO San Francisco®    are trademarks owned by TECHSPO, LLC.\n",
      "Any unauthorized use of these names, or variations of these names, is a violation of state, federal, and international trademark laws.\n",
      "Privacy Policy\n",
      "|\n",
      "Code of Conduct\n",
      "|\n",
      "Terms of Use\n",
      "PRICE INCREASES INPRICE INCREASES IN:\n",
      "PRICE INCREASES INPRICE INCREASES IN:\n",
      "Bottom Fixed Timer Super Early Bird\n",
      "BUY TICKETS\n",
      "BUY TICKETS\n",
      "\u001b[00m\n"
     ]
    }
   ],
   "source": [
    "result = event_management_crew.kickoff(inputs=event_details)"
   ]
  },
  {
   "cell_type": "markdown",
   "metadata": {},
   "source": [
    "- Display the generated `venue_details.json` file."
   ]
  },
  {
   "cell_type": "code",
   "execution_count": null,
   "metadata": {
    "height": 132
   },
   "outputs": [],
   "source": [
    "import json\n",
    "from pprint import pprint\n",
    "\n",
    "with open('venue_details.json') as f:\n",
    "   data = json.load(f)\n",
    "\n",
    "pprint(data)"
   ]
  },
  {
   "cell_type": "markdown",
   "metadata": {},
   "source": [
    "- Display the generated `marketing_report.md` file.\n",
    "\n",
    "**Note**: After `kickoff` execution has successfully ran, wait an extra 45 seconds for the `marketing_report.md` file to be generated. If you try to run the code below before the file has been generated, your output would look like:\n",
    "\n",
    "```\n",
    "marketing_report.md\n",
    "```\n",
    "\n",
    "If you see this output, wait some more and than try again."
   ]
  },
  {
   "cell_type": "code",
   "execution_count": null,
   "metadata": {
    "height": 47
   },
   "outputs": [],
   "source": [
    "from IPython.display import Markdown\n",
    "Markdown(\"marketing_report.md\")"
   ]
  },
  {
   "cell_type": "code",
   "execution_count": null,
   "metadata": {
    "height": 30
   },
   "outputs": [],
   "source": []
  },
  {
   "cell_type": "code",
   "execution_count": null,
   "metadata": {
    "height": 30
   },
   "outputs": [],
   "source": []
  },
  {
   "cell_type": "code",
   "execution_count": null,
   "metadata": {
    "height": 30
   },
   "outputs": [],
   "source": []
  }
 ],
 "metadata": {
  "kernelspec": {
   "display_name": "Python 3 (ipykernel)",
   "language": "python",
   "name": "python3"
  },
  "language_info": {
   "codemirror_mode": {
    "name": "ipython",
    "version": 3
   },
   "file_extension": ".py",
   "mimetype": "text/x-python",
   "name": "python",
   "nbconvert_exporter": "python",
   "pygments_lexer": "ipython3",
   "version": "3.11.9"
  }
 },
 "nbformat": 4,
 "nbformat_minor": 4
}
